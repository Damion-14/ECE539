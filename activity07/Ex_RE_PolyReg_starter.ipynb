{
 "cells": [
  {
   "cell_type": "code",
   "execution_count": null,
   "metadata": {},
   "outputs": [],
   "source": [
    "import numpy as np\n",
    "import matplotlib.pyplot as plt\n",
    "\n",
    "# makes printing more human-friendly\n",
    "np.set_printoptions(precision=3, suppress=True)"
   ]
  },
  {
   "cell_type": "code",
   "execution_count": null,
   "metadata": {},
   "outputs": [],
   "source": [
    "# Load the data\n",
    "colab=False\n",
    "if colab:\n",
    "    from google.colab import drive\n",
    "    drive.mount('/content/drive')\n",
    "    with open('/content/drive/539/data/Ex_poly_data.csv', 'r') as f: \n",
    "        data = np.genfromtxt(f,delimiter=',')\n",
    "else:\n",
    "    with open('Ex_poly_data.csv', 'r') as f: \n",
    "        data = np.genfromtxt(f,delimiter=',')\n",
    "\n",
    "plt.plot(data[:, 0], data[:, 1], '.', label='y [noisy observations]');\n",
    "plt.plot(data[:, 0], data[:, 2], '-', label='d(x) [truth]');\n",
    "plt.xlabel('x')\n",
    "plt.ylabel('y')\n",
    "plt.legend()\n",
    "plt.show()"
   ]
  },
  {
   "cell_type": "code",
   "execution_count": null,
   "metadata": {},
   "outputs": [],
   "source": [
    "from sklearn.model_selection import train_test_split\n",
    "data_trainval, data_test = train_test_split(data, train_size=0.85)\n",
    "data_train, data_val = train_test_split(data_trainval, train_size=0.7/0.85)\n",
    "\n",
    "x_train = data_train[:,0]\n",
    "y_train = data_train[:,1]\n",
    "\n",
    "x_val = data_val[:,0]\n",
    "y_val = data_val[:,1]\n",
    "\n",
    "x_test = data_test[:,0]\n",
    "y_test = data_test[:,1]\n",
    "\n",
    "print('x_train', x_train.shape)\n",
    "print('x_val', x_val.shape)\n",
    "print('x_test', x_test.shape)\n"
   ]
  },
  {
   "cell_type": "code",
   "execution_count": null,
   "metadata": {},
   "outputs": [],
   "source": [
    "from sklearn.linear_model import LinearRegression\n",
    "from sklearn.metrics import r2_score\n",
    "\n",
    "def train_polyreg_model(x, y, order=3):\n",
    "    # Create matrix X. X should be an Nxm matrix, where each row is [x, x^2, ..., x^m]\n",
    "    # Refer to np.stack or np.concatenate to create a matrix from multiple vectors\n",
    "    X = ... \n",
    "    \n",
    "    # Verify the result\n",
    "    print('X:', X.shape, X[1]) # X should be an Nxm matrix, where each row is [x, x^2, ..., x^m]\n",
    "\n",
    "    # Use LinearRegression to fit a model to X\n",
    "    model = ...\n",
    "    print('w =', model.coef_, 'b =', model.intercept_) # Does the shape of w make sense?\n",
    "    return model\n",
    "    \n",
    "def predict_polyreg_model(model, x):\n",
    "    order = len(model.coef_)\n",
    "    \n",
    "    # Create matrix X. X should be an Nxm matrix, where each row is [x, x^2, ..., x^m]\n",
    "    X = ...\n",
    "\n",
    "    # Predict the samples in X using our model\n",
    "    yhat = ...\n",
    "\n",
    "    return yhat\n",
    "\n",
    "order_list = range(1, 11)\n",
    "r2_list = []\n",
    "for order in order_list:\n",
    "    model = ...      # Train the model on the training data\n",
    "    yhat_val = ...   # Predict the validation data\n",
    "    r2 = ...         # Assess your predictions using r2_score between predictions and the observed independent variable y\n",
    "    r2_list.append(r2)\n",
    "\n",
    "print('R2 Scores:', np.array(r2_list))\n",
    "\n",
    "plt.plot(order_list, r2_list);\n",
    "plt.xlabel('Polynomial Order (m)')\n",
    "plt.ylabel('R2 Score')\n",
    "plt.grid(True)\n",
    "plt.show()"
   ]
  },
  {
   "cell_type": "code",
   "execution_count": null,
   "metadata": {},
   "outputs": [],
   "source": [
    "optimal_order = ...  # Optimal hyper-parameter m\n",
    "model = ...          # Train a new model with using the optimal hyper-parameter m\n",
    "yhat_test = ...      # Predict the TEST data\n",
    "r2 = ...             # Assess the predictions\n",
    "print('R2 score: ', r2)\n",
    "\n",
    "# Plot model predictions\n",
    "x_range = np.linspace(-0.5, 0.5, 100)\n",
    "yhat_range = predict_polyreg_model(model, x_range)\n",
    "\n",
    "plt.plot(data[:, 0], data[:, 1], '.', label='y [noisy observations]');\n",
    "plt.plot(data[:, 0], data[:, 2], '-', label='d(x) [truth]');\n",
    "plt.plot(x_range, yhat_range, '-', label='y predicted');\n",
    "plt.legend()\n",
    "plt.show()"
   ]
  },
  {
   "cell_type": "code",
   "execution_count": null,
   "metadata": {},
   "outputs": [],
   "source": []
  },
  {
   "cell_type": "code",
   "execution_count": null,
   "metadata": {},
   "outputs": [],
   "source": []
  }
 ],
 "metadata": {
  "kernelspec": {
   "display_name": "Python 3",
   "language": "python",
   "name": "python3"
  },
  "language_info": {
   "codemirror_mode": {
    "name": "ipython",
    "version": 3
   },
   "file_extension": ".py",
   "mimetype": "text/x-python",
   "name": "python",
   "nbconvert_exporter": "python",
   "pygments_lexer": "ipython3",
   "version": "3.7.6"
  }
 },
 "nbformat": 4,
 "nbformat_minor": 5
}
