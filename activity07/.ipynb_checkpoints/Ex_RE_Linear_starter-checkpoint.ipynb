{
 "cells": [
  {
   "cell_type": "code",
   "execution_count": null,
   "metadata": {
    "executionInfo": {
     "elapsed": 228,
     "status": "ok",
     "timestamp": 1676156655142,
     "user": {
      "displayName": "YU HEN HU",
      "userId": "04083449072545068296"
     },
     "user_tz": 360
    },
    "id": "sZe02Xhj_sjI"
   },
   "outputs": [],
   "source": [
    "import numpy as np\n",
    "import matplotlib.pyplot as plt\n",
    "from sklearn.linear_model import LinearRegression\n",
    "from sklearn.metrics import r2_score\n",
    "\n",
    "# makes printing more human-friendly\n",
    "np.set_printoptions(precision=3, suppress=True)"
   ]
  },
  {
   "cell_type": "code",
   "execution_count": null,
   "metadata": {},
   "outputs": [],
   "source": [
    "data1 = {\n",
    "    'x': np.array([10, 8, 13, 9, 11, 14, 6, 4, 12, 7, 5])[:, None],\n",
    "    'y': np.array([8.04, 6.95, 7.58, 8.81, 8.33, 9.96, 7.24, 4.26, 10.84, 4.82, 5.68])\n",
    "}\n",
    "\n",
    "data2 = {\n",
    "    'x': np.array([10, 8, 13, 9, 11, 14, 6, 4, 12, 7, 5])[:, None],\n",
    "    'y': np.array([9.14, 8.14, 8.74, 8.77, 9.26, 8.10, 6.13, 3.10, 9.13, 7.26, 4.74])\n",
    "}\n",
    "\n",
    "data3 = {\n",
    "    'x': np.array([10, 8, 13, 9, 11, 14, 6, 4, 12, 7, 5])[:, None],\n",
    "    'y': np.array([7.46, 6.77, 12.74, 7.11, 7.81, 8.84, 6.08, 5.39, 8.15, 6.42, 5.73])\n",
    "}\n",
    "\n",
    "data4 = {\n",
    "    'x': np.array([8, 8, 8, 8, 8, 8, 8, 19, 8, 8, 8])[:, None],\n",
    "    'y': np.array([6.58, 5.76, 7.71, 8.84, 8.47, 7.04, 5.25, 12.50, 5.56, 7.91, 6.89])\n",
    "}"
   ]
  },
  {
   "cell_type": "code",
   "execution_count": null,
   "metadata": {},
   "outputs": [],
   "source": [
    "# 1a) Fit the data using the LinearRegression model\n",
    "model1 = ..."
   ]
  },
  {
   "cell_type": "code",
   "execution_count": null,
   "metadata": {},
   "outputs": [],
   "source": [
    "# 1b) Predict and measure R2 scores\n",
    "yhat1 = ...   # Refer to LinearRegression.predict()\n",
    "rsqr1 = ...   # Compute R-square between ground-truth data1['y'] and predictions yhat1\n",
    "w1, b1 = model1.coef_, model1.intercept_\n",
    "print(f'Model 1: y = {w1[0]:.2f}x + {b1:.2f} \\t R2 = {rsqr1:.2f}')"
   ]
  },
  {
   "cell_type": "code",
   "execution_count": null,
   "metadata": {},
   "outputs": [],
   "source": [
    "# 1c) Plot the data and predictions\n",
    "x_range = np.linspace(0, 20, 100)[:, None]\n",
    "plt.plot(data1['x'], data1['y'], 'r.', ms=15);\n",
    "plt.plot(x_range, reg1.predict(x_range), 'r-');"
   ]
  },
  {
   "cell_type": "code",
   "execution_count": null,
   "metadata": {
    "colab": {
     "base_uri": "https://localhost:8080/"
    },
    "executionInfo": {
     "elapsed": 2966,
     "status": "ok",
     "timestamp": 1676156658317,
     "user": {
      "displayName": "YU HEN HU",
      "userId": "04083449072545068296"
     },
     "user_tz": 360
    },
    "id": "avqxhDI6_xJY",
    "outputId": "d4123912-2367-49b2-ae2d-a2cebfdfdb90"
   },
   "outputs": [],
   "source": [
    "# 1d) Compute the linear regression for other datasets\n",
    "model2 = ...\n",
    "yhat2 = ...\n",
    "rsqr2 = ...\n",
    "w2, b2 = model2.coef_, model2.intercept_\n",
    "print(f'Model 2: y = {w2[0]:.2f}x + {b2:.2f} \\t R2 = {rsqr2:.2f}')\n",
    "\n",
    "model3 = ...\n",
    "yhat3 = ...\n",
    "rsqr3 = ...\n",
    "w3, b3 = model3.coef_, model3.intercept_\n",
    "print(f'Model 3: y = {w3[0]:.2f}x + {b3:.2f} \\t R2 = {rsqr3:.2f}')\n",
    "\n",
    "model4 = ...\n",
    "yhat4 = ...\n",
    "rsqr4 = ...\n",
    "w4, b4 = model4.coef_, model4.intercept_\n",
    "print(f'Model 4: y = {w4[0]:.2f}x + {b4:.2f} \\t R2 = {rsqr4:.2f}')"
   ]
  },
  {
   "cell_type": "code",
   "execution_count": null,
   "metadata": {
    "executionInfo": {
     "elapsed": 6,
     "status": "ok",
     "timestamp": 1676156658317,
     "user": {
      "displayName": "YU HEN HU",
      "userId": "04083449072545068296"
     },
     "user_tz": 360
    },
    "id": "fx0vJsxhl4Ex"
   },
   "outputs": [],
   "source": [
    "# e) Plot all datasets and linear regression line\n",
    "x_range = np.linspace(0, 20, 100)[:, None]\n",
    "\n",
    "f, ax = plt.subplots(1, 4, figsize=(16, 3))\n",
    "ax[0].plot(data1['x'], data1['y'], 'r.', ms=15)\n",
    "ax[0].plot(x_range, reg1.predict(x_range), 'r-')\n",
    "ax[1].plot(data2['x'], data2['y'], 'b.', ms=15)\n",
    "ax[1].plot(x_range, reg2.predict(x_range), 'b-')\n",
    "ax[2].plot(data3['x'], data3['y'], 'g.', ms=15)\n",
    "ax[2].plot(x_range, reg3.predict(x_range), 'g-')\n",
    "ax[3].plot(data4['x'], data4['y'], 'k.', ms=15)\n",
    "ax[3].plot(x_range, reg4.predict(x_range), 'k-')\n",
    "for axes in ax:\n",
    "    axes.set_xlim(0, 20);\n",
    "    axes.set_ylim(0, 15);"
   ]
  },
  {
   "cell_type": "markdown",
   "metadata": {
    "executionInfo": {
     "elapsed": 3,
     "status": "ok",
     "timestamp": 1676156660257,
     "user": {
      "displayName": "YU HEN HU",
      "userId": "04083449072545068296"
     },
     "user_tz": 360
    },
    "id": "i4wE4Zsl-K0f"
   },
   "source": [
    "# Discuss observations\n"
   ]
  },
  {
   "cell_type": "markdown",
   "metadata": {},
   "source": []
  }
 ],
 "metadata": {
  "colab": {
   "provenance": []
  },
  "kernelspec": {
   "display_name": "Python 3 (ipykernel)",
   "language": "python",
   "name": "python3"
  },
  "language_info": {
   "codemirror_mode": {
    "name": "ipython",
    "version": 3
   },
   "file_extension": ".py",
   "mimetype": "text/x-python",
   "name": "python",
   "nbconvert_exporter": "python",
   "pygments_lexer": "ipython3",
   "version": "3.10.12"
  }
 },
 "nbformat": 4,
 "nbformat_minor": 4
}
