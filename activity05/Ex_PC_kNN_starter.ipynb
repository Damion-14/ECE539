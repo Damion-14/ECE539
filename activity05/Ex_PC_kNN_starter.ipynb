{
 "cells": [
  {
   "cell_type": "code",
   "execution_count": 1,
   "metadata": {
    "executionInfo": {
     "elapsed": 109,
     "status": "ok",
     "timestamp": 1663015428883,
     "user": {
      "displayName": "YU HEN HU",
      "userId": "04083449072545068296"
     },
     "user_tz": 300
    },
    "id": "BCwgEp5YbATi"
   },
   "outputs": [],
   "source": [
    "import numpy as np\n",
    "\n",
    "# makes printing more human-friendly\n",
    "np.set_printoptions(precision=3,suppress=True)"
   ]
  },
  {
   "cell_type": "code",
   "execution_count": 2,
   "metadata": {},
   "outputs": [
    {
     "name": "stdout",
     "output_type": "stream",
     "text": [
      "num_samples, num_features (150, 4)\n",
      "labels [1. 2. 3.]\n"
     ]
    }
   ],
   "source": [
    "# Load the data\n",
    "colab=False\n",
    "if colab:\n",
    "    from google.colab import drive\n",
    "    drive.mount('/content/drive')\n",
    "    with open('/content/drive/539/data/iris.csv', 'r') as f: \n",
    "      data = np.genfromtxt(f,delimiter=',')\n",
    "else:\n",
    "    with open('iris.csv', 'r', encoding='utf-8') as f: \n",
    "        data = np.genfromtxt(f,delimiter=',')\n",
    "\n",
    "X = data[:, :-1]\n",
    "y = data[:, -1]\n",
    "print('num_samples, num_features', X.shape)\n",
    "print('labels', np.unique(y))"
   ]
  },
  {
   "cell_type": "code",
   "execution_count": 3,
   "metadata": {
    "executionInfo": {
     "elapsed": 13,
     "status": "ok",
     "timestamp": 1663015429612,
     "user": {
      "displayName": "YU HEN HU",
      "userId": "04083449072545068296"
     },
     "user_tz": 300
    },
    "id": "PTSXXRPga_sM"
   },
   "outputs": [
    {
     "name": "stdout",
     "output_type": "stream",
     "text": [
      "train:  (105, 4)\n",
      "val:  (23, 4)\n",
      "test:  (22, 4)\n"
     ]
    }
   ],
   "source": [
    "# 1a) Perform stratified data partition at a 70/15/15 ratio to yield Xtrain, ytrain (label),X_val , y_val Xtest, and test.\n",
    "from sklearn.model_selection import train_test_split\n",
    "\n",
    "X_train, X_test, y_train, y_test = train_test_split(X, y, test_size=0.3, train_size=0.7)\n",
    "X_test, X_val, y_test, y_val = train_test_split(X_test, y_test, test_size=0.5, train_size=0.5)\n",
    "print('train: ', X_train.shape)\n",
    "print('val: ', X_val.shape)\n",
    "print('test: ', X_test.shape)"
   ]
  },
  {
   "cell_type": "code",
   "execution_count": 4,
   "metadata": {
    "colab": {
     "base_uri": "https://localhost:8080/"
    },
    "executionInfo": {
     "elapsed": 12,
     "status": "ok",
     "timestamp": 1663015429612,
     "user": {
      "displayName": "YU HEN HU",
      "userId": "04083449072545068296"
     },
     "user_tz": 300
    },
    "id": "6kt7IgUF2ycB",
    "outputId": "bd35068a-b6ee-45d3-b375-87820fb1b505"
   },
   "outputs": [
    {
     "name": "stdout",
     "output_type": "stream",
     "text": [
      "Training kNN with 1 neighbors: \n",
      "Training kNN with 3 neighbors: \n",
      "Training kNN with 5 neighbors: \n",
      "Training kNN with 10 neighbors: \n",
      "Training kNN with 20 neighbors: \n",
      "Training kNN with 30 neighbors: \n",
      "Training kNN with 40 neighbors: \n",
      "Training kNN with 50 neighbors: \n",
      "Training kNN with 75 neighbors: \n",
      "Training kNN with 100 neighbors: \n"
     ]
    }
   ],
   "source": [
    "# 1b) # of neighbors vary 1-9, knn model for each\n",
    "from sklearn.neighbors import KNeighborsClassifier\n",
    "\n",
    "models = {}\n",
    "for i in [1,3,5,10,20,30,40,50,75,100]:\n",
    "  print(f\"Training kNN with {i} neighbors: \")\n",
    "  models[i] = KNeighborsClassifier(n_neighbors=i).fit(X_train, y_train)"
   ]
  },
  {
   "cell_type": "code",
   "execution_count": 5,
   "metadata": {
    "colab": {
     "base_uri": "https://localhost:8080/"
    },
    "executionInfo": {
     "elapsed": 122,
     "status": "ok",
     "timestamp": 1663015573941,
     "user": {
      "displayName": "YU HEN HU",
      "userId": "04083449072545068296"
     },
     "user_tz": 300
    },
    "id": "Ud6cuI8l4y9C",
    "outputId": "96d42fff-6aaf-4dc2-fbcc-a959319709ed"
   },
   "outputs": [
    {
     "name": "stdout",
     "output_type": "stream",
     "text": [
      "Classification Rate using 1 neighbors: 91.30%\n",
      "Classification Rate using 3 neighbors: 95.65%\n",
      "Classification Rate using 5 neighbors: 95.65%\n",
      "Classification Rate using 10 neighbors: 95.65%\n",
      "Classification Rate using 20 neighbors: 95.65%\n",
      "Classification Rate using 30 neighbors: 95.65%\n",
      "Classification Rate using 40 neighbors: 100.00%\n",
      "Classification Rate using 50 neighbors: 86.96%\n",
      "Classification Rate using 75 neighbors: 17.39%\n",
      "Classification Rate using 100 neighbors: 13.04%\n"
     ]
    }
   ],
   "source": [
    "# 1b) accuracy\n",
    "from sklearn.metrics import accuracy_score\n",
    "\n",
    "for i in models:\n",
    "  y_predict = models[i].predict(X_val)  # Predict class using models[i]\n",
    "  # acc = sum(y_predict == y_val) /  len(y_predict)                          # Compute accuracy of the predictions\n",
    "  acc = accuracy_score(y_val, y_predict)\n",
    "  print(f'Classification Rate using {i} neighbors: {acc*100:.2f}%')"
   ]
  },
  {
   "cell_type": "code",
   "execution_count": 6,
   "metadata": {},
   "outputs": [],
   "source": [
    "# 1c) Best number of neighbors\n",
    "nneigs = 10"
   ]
  },
  {
   "cell_type": "code",
   "execution_count": 7,
   "metadata": {
    "executionInfo": {
     "elapsed": 4,
     "status": "ok",
     "timestamp": 1663015429729,
     "user": {
      "displayName": "YU HEN HU",
      "userId": "04083449072545068296"
     },
     "user_tz": 300
    },
    "id": "fshNI69p4z-O"
   },
   "outputs": [
    {
     "name": "stdout",
     "output_type": "stream",
     "text": [
      "\n",
      "Classification Rate of 10 neighbors: 100.00%\n",
      "Confusion Matrix of 10 neighbors:\n",
      "[[11  0  0]\n",
      " [ 0  7  0]\n",
      " [ 0  0  4]]\n"
     ]
    }
   ],
   "source": [
    "# 1d) Train and evaluate final model on X_train and X_val\n",
    "from sklearn.metrics import accuracy_score, confusion_matrix\n",
    "\n",
    "X_trainval = np.concatenate((X_train, X_val), axis=0)\n",
    "y_trainval = np.concatenate((y_train, y_val), axis=0)\n",
    "model = KNeighborsClassifier(n_neighbors=nneigs).fit(X_trainval, y_trainval)      # Train kNN model on X_trainval, y_trainval with nneigs neighbors\n",
    "y_predict = model.predict(X_test)                                                 # Predict classes of X_test\n",
    "\n",
    "acc = accuracy_score(y_test, y_predict)                                           # Evaluate accuracy of predictions\n",
    "cm = confusion_matrix(y_test, y_predict)                                          # Compute confusion matrix of predictions\n",
    "print(f'\\nClassification Rate of {nneigs} neighbors: {acc*100:.2f}%')\n",
    "print(f'Confusion Matrix of {nneigs} neighbors:')\n",
    "print(cm)"
   ]
  },
  {
   "cell_type": "code",
   "execution_count": 8,
   "metadata": {},
   "outputs": [],
   "source": [
    "# (Optional) Implement your own kNN classifier\n",
    "# Retrain final classifier and apply it to test set to validate your implementation.\n",
    "\n",
    "from scipy import stats\n",
    "\n",
    "class myKNeighborsClassifier:\n",
    "    def __init__(self, n_neighbors):\n",
    "        self.n_neighbors = n_neighbors\n",
    "    \n",
    "    def fit(self, X, y):\n",
    "        # No training necessary. Just store the training dataset\n",
    "        self.X_train = ...\n",
    "        self.y_train = ...\n",
    "        return self\n",
    "\n",
    "    def predict(self, X):\n",
    "        n = X.shape[0]\n",
    "        y = np.zeros(n)\n",
    "        for i in range(n):\n",
    "            d = ...                            # Compute distances between X[i] and all self.X_train\n",
    "            neig_idx = ...                     # Find closest neigbors using np.argsort\n",
    "            neig_y = self.y_train[neig_idx]    # Collect labels of closest neighbors\n",
    "            y[i] = ...                         # Find most likely label using stats.mode\n",
    "        return y"
   ]
  }
 ],
 "metadata": {
  "colab": {
   "collapsed_sections": [],
   "provenance": []
  },
  "kernelspec": {
   "display_name": "Python 3",
   "language": "python",
   "name": "python3"
  },
  "language_info": {
   "codemirror_mode": {
    "name": "ipython",
    "version": 3
   },
   "file_extension": ".py",
   "mimetype": "text/x-python",
   "name": "python",
   "nbconvert_exporter": "python",
   "pygments_lexer": "ipython3",
   "version": "3.12.3"
  }
 },
 "nbformat": 4,
 "nbformat_minor": 4
}
