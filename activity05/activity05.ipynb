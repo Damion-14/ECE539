{
 "cells": [
  {
   "cell_type": "code",
   "execution_count": null,
   "metadata": {},
   "outputs": [],
   "source": []
  },
  {
   "cell_type": "code",
   "execution_count": 3,
   "metadata": {},
   "outputs": [
    {
     "data": {
      "text/plain": [
       "[({'X1': 0, 'X2': 3, 'X3': 0, 'Y': 'Red'}, 3.0),\n",
       " ({'X1': 2, 'X2': 0, 'X3': 0, 'Y': 'Red'}, 2.0),\n",
       " ({'X1': 0, 'X2': 1, 'X3': 3, 'Y': 'Red'}, 3.1622776601683795),\n",
       " ({'X1': 0, 'X2': 1, 'X3': 2, 'Y': 'Green'}, 2.23606797749979),\n",
       " ({'X1': -1, 'X2': 0, 'X3': 1, 'Y': 'Green'}, 1.4142135623730951),\n",
       " ({'X1': 1, 'X2': 1, 'X3': 1, 'Y': 'Red'}, 1.7320508075688772)]"
      ]
     },
     "execution_count": 3,
     "metadata": {},
     "output_type": "execute_result"
    }
   ],
   "source": [
    "data = [\n",
    "    {\"X1\": 0, \"X2\": 3, \"X3\": 0, \"Y\": \"Red\"},\n",
    "    {\"X1\": 2, \"X2\": 0, \"X3\": 0, \"Y\": \"Red\"},\n",
    "    {\"X1\": 0, \"X2\": 1, \"X3\": 3, \"Y\": \"Red\"},\n",
    "    {\"X1\": 0, \"X2\": 1, \"X3\": 2, \"Y\": \"Green\"},\n",
    "    {\"X1\": -1, \"X2\": 0, \"X3\": 1, \"Y\": \"Green\"},\n",
    "    {\"X1\": 1, \"X2\": 1, \"X3\": 1, \"Y\": \"Red\"},\n",
    "]\n",
    "\n",
    "def find_distances(data, new_point):\n",
    "    distances = []\n",
    "    for point in data:\n",
    "        distance = 0\n",
    "        for key in [\"X1\", \"X2\", \"X3\"]:  # Only iterate over numerical features\n",
    "            distance += (point[key] - new_point[key]) ** 2\n",
    "        distances.append((point, distance ** 0.5))  # Compute Euclidean distance\n",
    "    return distances\n",
    "\n",
    "new_point = {\"X1\": 0, \"X2\": 0, \"X3\": 0}\n",
    "find_distances(data, new_point)"
   ]
  },
  {
   "cell_type": "code",
   "execution_count": null,
   "metadata": {},
   "outputs": [],
   "source": []
  }
 ],
 "metadata": {
  "kernelspec": {
   "display_name": "Python 3",
   "language": "python",
   "name": "python3"
  },
  "language_info": {
   "codemirror_mode": {
    "name": "ipython",
    "version": 3
   },
   "file_extension": ".py",
   "mimetype": "text/x-python",
   "name": "python",
   "nbconvert_exporter": "python",
   "pygments_lexer": "ipython3",
   "version": "3.12.3"
  }
 },
 "nbformat": 4,
 "nbformat_minor": 2
}
