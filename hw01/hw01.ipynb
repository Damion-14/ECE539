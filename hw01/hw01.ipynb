{
 "cells": [
  {
   "cell_type": "markdown",
   "metadata": {},
   "source": [
    "# Homework 1\n",
    "Damion Huppert"
   ]
  },
  {
   "cell_type": "code",
   "execution_count": 2,
   "metadata": {},
   "outputs": [],
   "source": [
    "import torch"
   ]
  },
  {
   "cell_type": "markdown",
   "metadata": {},
   "source": [
    "### Problem 1"
   ]
  },
  {
   "cell_type": "markdown",
   "metadata": {},
   "source": [
    "Exercise 4  \n",
    "Answer: 2"
   ]
  },
  {
   "cell_type": "code",
   "execution_count": null,
   "metadata": {},
   "outputs": [
    {
     "data": {
      "text/plain": [
       "2"
      ]
     },
     "execution_count": 5,
     "metadata": {},
     "output_type": "execute_result"
    }
   ],
   "source": [
    "x = torch.arange(24).reshape(2, 3, 4)\n",
    "len(x)\n"
   ]
  },
  {
   "cell_type": "code",
   "execution_count": 6,
   "metadata": {},
   "outputs": [
    {
     "data": {
      "text/plain": [
       "tensor([[[ 0,  1,  2,  3],\n",
       "         [ 4,  5,  6,  7],\n",
       "         [ 8,  9, 10, 11]],\n",
       "\n",
       "        [[12, 13, 14, 15],\n",
       "         [16, 17, 18, 19],\n",
       "         [20, 21, 22, 23]]])"
      ]
     },
     "execution_count": 6,
     "metadata": {},
     "output_type": "execute_result"
    }
   ],
   "source": [
    "x"
   ]
  },
  {
   "cell_type": "markdown",
   "metadata": {},
   "source": [
    "Exercise 5  \n",
    "Answer: Yes it is always the first axis (0)"
   ]
  },
  {
   "cell_type": "markdown",
   "metadata": {},
   "source": [
    "Exercise 6  \n",
    "This is dividing each item in the A by the sum of the row"
   ]
  },
  {
   "cell_type": "code",
   "execution_count": 13,
   "metadata": {},
   "outputs": [
    {
     "name": "stdout",
     "output_type": "stream",
     "text": [
      "tensor([[0., 1., 2.],\n",
      "        [3., 4., 5.]])\n"
     ]
    },
    {
     "data": {
      "text/plain": [
       "tensor([[0.0000, 0.3333, 0.6667],\n",
       "        [0.2500, 0.3333, 0.4167]])"
      ]
     },
     "execution_count": 13,
     "metadata": {},
     "output_type": "execute_result"
    }
   ],
   "source": [
    "A = torch.arange(6, dtype=torch.float32).reshape(2, 3)\n",
    "print(A)\n",
    "A / A.sum(axis=1).unsqueeze(1)"
   ]
  },
  {
   "cell_type": "markdown",
   "metadata": {},
   "source": [
    "### Problem 2"
   ]
  },
  {
   "cell_type": "markdown",
   "metadata": {},
   "source": [
    "Question A"
   ]
  },
  {
   "cell_type": "code",
   "execution_count": 18,
   "metadata": {},
   "outputs": [
    {
     "name": "stdout",
     "output_type": "stream",
     "text": [
      "c:\n",
      " tensor([[ 2, -3,  1, -1],\n",
      "        [-4,  6, -2,  2],\n",
      "        [ 6, -9,  3, -3],\n",
      "        [ 4, -6,  2, -2]])\n",
      "Shape of c: torch.Size([4, 4])\n",
      "\n",
      "d:\n",
      " tensor([[9]])\n",
      "Shape of d: torch.Size([1, 1])\n"
     ]
    }
   ],
   "source": [
    "A = torch.tensor([[1],[-2],[3],[2]])\n",
    "B = torch.tensor([[2],[-3],[1],[-1]])\n",
    "c = A @ B.T\n",
    "d = A.T @ B\n",
    "\n",
    "print(\"c:\\n\", c)\n",
    "print(\"Shape of c:\", c.shape)\n",
    "print(\"\\nd:\\n\", d)\n",
    "print(\"Shape of d:\", d.shape)"
   ]
  },
  {
   "cell_type": "markdown",
   "metadata": {},
   "source": [
    "Question B"
   ]
  },
  {
   "cell_type": "markdown",
   "metadata": {},
   "source": [
    "Matrix A (3 × 2):\n",
    "$$\n",
    "A = \\begin{bmatrix}\n",
    "a_{11} & a_{12} \\\\\n",
    "a_{21} & a_{22} \\\\\n",
    "a_{31} & a_{32}\n",
    "\\end{bmatrix}\n",
    "$$\n",
    "\n",
    "Matrix D (2 × 2, diagonal):\n",
    "$$\n",
    "D = \\begin{bmatrix}\n",
    "d_{11} & 0 \\\\\n",
    "0 & d_{22}\n",
    "\\end{bmatrix}\n",
    "$$\n",
    "\n",
    "Matrix B (2 × 4):\n",
    "$$\n",
    "B = \\begin{bmatrix}\n",
    "b_{11} & b_{12} & b_{13} & b_{14} \\\\\n",
    "b_{21} & b_{22} & b_{23} & b_{24}\n",
    "\\end{bmatrix}\n",
    "$$\n",
    "\n",
    "Matrix E = ADB\n",
    "\n",
    "ADB =\n",
    "\\begin{bmatrix}\n",
    "a_{11} d_{11} b_{11} + a_{12} d_{22} b_{21} & a_{11} d_{11} b_{12} + a_{12} d_{22} b_{22} & a_{11} d_{11} b_{13} + a_{12} d_{22} b_{23} & a_{11} d_{11} b_{14} + a_{12} d_{22} b_{24} \\\\\n",
    "a_{21} d_{11} b_{11} + a_{22} d_{22} b_{21} & a_{21} d_{11} b_{12} + a_{22} d_{22} b_{22} & a_{21} d_{11} b_{13} + a_{22} d_{22} b_{23} & a_{21} d_{11} b_{14} + a_{22} d_{22} b_{24} \\\\\n",
    "a_{31} d_{11} b_{11} + a_{32} d_{22} b_{21} & a_{31} d_{11} b_{12} + a_{32} d_{22} b_{22} & a_{31} d_{11} b_{13} + a_{32} d_{22} b_{23} & a_{31} d_{11} b_{14} + a_{32} d_{22} b_{24}\n",
    "\\end{bmatrix}\n",
    "\n",
    "\n",
    "If we expand the summation we get:\n",
    "$$\n",
    "E = \n",
    "d_{11}a_{1}b_{1}^{T} + d_{22}a_{2}b_{2}^{T}\n",
    "$$\n",
    "\n",
    "We can see that the two matrices are equal"
   ]
  },
  {
   "cell_type": "markdown",
   "metadata": {},
   "source": [
    "Question C"
   ]
  },
  {
   "cell_type": "code",
   "execution_count": 24,
   "metadata": {},
   "outputs": [
    {
     "name": "stdout",
     "output_type": "stream",
     "text": [
      "tensor([ 0,  1,  2,  3,  4,  5,  6,  7,  8,  9, 10, 11, 12, 13, 14, 15, 16, 17,\n",
      "        18, 19])\n"
     ]
    },
    {
     "data": {
      "text/plain": [
       "tensor([[ 0,  1,  2,  3],\n",
       "        [ 4,  5,  6,  7],\n",
       "        [ 8,  9, 10, 11],\n",
       "        [12, 13, 14, 15],\n",
       "        [16, 17, 18, 19]])"
      ]
     },
     "execution_count": 24,
     "metadata": {},
     "output_type": "execute_result"
    }
   ],
   "source": [
    "a = torch.arange(20)\n",
    "print(a)\n",
    "a = a.reshape(5, 4)\n",
    "a"
   ]
  },
  {
   "cell_type": "markdown",
   "metadata": {},
   "source": [
    "Question D"
   ]
  },
  {
   "cell_type": "code",
   "execution_count": 26,
   "metadata": {},
   "outputs": [
    {
     "data": {
      "text/plain": [
       "tensor([[  0,   1,   4,   9],\n",
       "        [ 16,  25,  36,  49],\n",
       "        [ 64,  81, 100, 121],\n",
       "        [144, 169, 196, 225],\n",
       "        [256, 289, 324, 361]])"
      ]
     },
     "execution_count": 26,
     "metadata": {},
     "output_type": "execute_result"
    }
   ],
   "source": [
    "c = a * a\n",
    "c"
   ]
  },
  {
   "cell_type": "markdown",
   "metadata": {},
   "source": [
    "### Problem 3"
   ]
  },
  {
   "cell_type": "code",
   "execution_count": 36,
   "metadata": {},
   "outputs": [],
   "source": [
    "A = torch.tensor([\n",
    "    [1, 2],\n",
    "    [-2, 1],\n",
    "    [3, -1]\n",
    "],dtype=torch.float32)"
   ]
  },
  {
   "cell_type": "markdown",
   "metadata": {},
   "source": [
    "Question A"
   ]
  },
  {
   "cell_type": "code",
   "execution_count": 38,
   "metadata": {},
   "outputs": [
    {
     "data": {
      "text/plain": [
       "tensor(2)"
      ]
     },
     "execution_count": 38,
     "metadata": {},
     "output_type": "execute_result"
    }
   ],
   "source": [
    "rank = torch.linalg.matrix_rank(A)\n",
    "rank"
   ]
  },
  {
   "cell_type": "markdown",
   "metadata": {},
   "source": [
    "Question B"
   ]
  },
  {
   "cell_type": "code",
   "execution_count": 60,
   "metadata": {},
   "outputs": [
    {
     "name": "stdout",
     "output_type": "stream",
     "text": [
      "SVD matrices:\n",
      "U matrix:\n",
      "  tensor([[-8.1650e-02, -9.8995e-01],\n",
      "        [ 5.7155e-01, -1.4142e-01],\n",
      "        [-8.1650e-01, -1.9372e-07]])\n",
      "Singular values:\n",
      "  tensor([3.8730, 2.2361])\n",
      "V^T matrix:\n",
      "  tensor([[-0.9487,  0.3162],\n",
      "        [-0.3162, -0.9487]])\n",
      "SVD Shapes:\n",
      "U matrix:  torch.Size([3, 2])\n",
      "Singular values:  torch.Size([2])\n",
      "V^T matrix:  torch.Size([2, 2])\n",
      "K = 2\n"
     ]
    }
   ],
   "source": [
    "U, S, Vt = torch.linalg.svd(A, full_matrices=False)\n",
    "\n",
    "print(\"SVD matrices:\")\n",
    "print(\"U matrix:\\n \", U)\n",
    "print(\"Singular values:\\n \", S)\n",
    "print(\"V^T matrix:\\n \", Vt)\n",
    "\n",
    "print(\"SVD Shapes:\")\n",
    "print(\"U matrix: \", U.shape)\n",
    "print(\"Singular values: \", S.shape)\n",
    "print(\"V^T matrix: \", Vt.shape)\n",
    "print(\"K = 2\")"
   ]
  },
  {
   "cell_type": "markdown",
   "metadata": {},
   "source": [
    "Question C"
   ]
  },
  {
   "cell_type": "code",
   "execution_count": 63,
   "metadata": {},
   "outputs": [
    {
     "name": "stdout",
     "output_type": "stream",
     "text": [
      "tensor([[ 5.,  0.,  1.],\n",
      "        [ 0.,  5., -7.],\n",
      "        [ 1., -7., 10.]])\n",
      "Eigenvalues:\n",
      " tensor([-4.9202e-07,  5.0000e+00,  1.5000e+01])\n",
      "Eigenvectors:\n",
      " tensor([[-1.1547e-01,  9.8995e-01,  8.1650e-02],\n",
      "        [ 8.0829e-01,  1.4142e-01, -5.7155e-01],\n",
      "        [ 5.7735e-01, -1.4901e-08,  8.1650e-01]])\n",
      "M = 3\n"
     ]
    }
   ],
   "source": [
    "B = A @ A.T\n",
    "print(B)\n",
    "eigvals, eigvecs = torch.linalg.eigh(B)\n",
    "print(\"Eigenvalues:\\n\", eigvals)\n",
    "print(\"Eigenvectors:\\n\", eigvecs)\n",
    "print(\"M = 3\")"
   ]
  },
  {
   "cell_type": "markdown",
   "metadata": {},
   "source": []
  },
  {
   "cell_type": "code",
   "execution_count": 9,
   "metadata": {},
   "outputs": [
    {
     "name": "stdout",
     "output_type": "stream",
     "text": [
      "tensor([[ 0.,  1.,  1.,  1.],\n",
      "        [-1.,  1.,  0.,  0.],\n",
      "        [ 0.,  0.,  0.,  0.]])\n"
     ]
    },
    {
     "data": {
      "text/plain": [
       "tensor(2)"
      ]
     },
     "execution_count": 9,
     "metadata": {},
     "output_type": "execute_result"
    }
   ],
   "source": [
    "X = torch.tensor([[0, 1, 1, 1],[-1, 1, 0, 0],[0, 0, 0, 0]], dtype=torch.float32)\n",
    "print(X)\n",
    "torch.linalg.matrix_rank(X)"
   ]
  },
  {
   "cell_type": "code",
   "execution_count": null,
   "metadata": {},
   "outputs": [],
   "source": []
  }
 ],
 "metadata": {
  "kernelspec": {
   "display_name": "Python 3",
   "language": "python",
   "name": "python3"
  },
  "language_info": {
   "codemirror_mode": {
    "name": "ipython",
    "version": 3
   },
   "file_extension": ".py",
   "mimetype": "text/x-python",
   "name": "python",
   "nbconvert_exporter": "python",
   "pygments_lexer": "ipython3",
   "version": "3.12.3"
  }
 },
 "nbformat": 4,
 "nbformat_minor": 2
}
