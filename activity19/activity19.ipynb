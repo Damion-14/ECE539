{
 "cells": [
  {
   "cell_type": "markdown",
   "metadata": {},
   "source": [
    "##### Question 1-d"
   ]
  },
  {
   "cell_type": "code",
   "execution_count": 1,
   "metadata": {},
   "outputs": [
    {
     "name": "stdout",
     "output_type": "stream",
     "text": [
      "Dot Product Similarities: [0.57735027 0.         0.         0.57735027]\n",
      "Attention Weights: [0.32022874 0.17977126 0.17977126 0.32022874]\n",
      "Output Vector: [1.67977126 2.71908505]\n"
     ]
    }
   ],
   "source": [
    "import numpy as np\n",
    "\n",
    "# Define the query, keys, and values\n",
    "q = np.array([0, 1, 0])\n",
    "keys = np.array([[0, 1, 0], [1, 0, 0], [0, 0, 1], [0, 1, 0]])\n",
    "values = np.array([[1, 2], [0, 3], [4, 5], [2, 2]])\n",
    "\n",
    "# Step 1: Compute dot product similarities\n",
    "dot_products = np.dot(keys, q)  # q.T * k_i for each key k_i\n",
    "similarities = dot_products / np.sqrt(3)  # Normalize by sqrt(r), r=3\n",
    "\n",
    "# Step 2: Compute attention weights\n",
    "exp_similarities = np.exp(similarities)\n",
    "attention_weights = exp_similarities / np.sum(exp_similarities)\n",
    "\n",
    "# Step 3: Compute the output\n",
    "output = np.sum(attention_weights[:, np.newaxis] * values, axis=0)\n",
    "\n",
    "# Results\n",
    "print(\"Dot Product Similarities:\", similarities)\n",
    "print(\"Attention Weights:\", attention_weights)\n",
    "print(\"Output Vector:\", output)\n"
   ]
  },
  {
   "cell_type": "code",
   "execution_count": null,
   "metadata": {},
   "outputs": [],
   "source": []
  }
 ],
 "metadata": {
  "kernelspec": {
   "display_name": "Python 3",
   "language": "python",
   "name": "python3"
  },
  "language_info": {
   "codemirror_mode": {
    "name": "ipython",
    "version": 3
   },
   "file_extension": ".py",
   "mimetype": "text/x-python",
   "name": "python",
   "nbconvert_exporter": "python",
   "pygments_lexer": "ipython3",
   "version": "3.12.3"
  }
 },
 "nbformat": 4,
 "nbformat_minor": 2
}
