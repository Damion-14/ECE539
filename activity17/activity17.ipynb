{
 "cells": [
  {
   "cell_type": "markdown",
   "metadata": {},
   "source": [
    "Questions 1"
   ]
  },
  {
   "cell_type": "markdown",
   "metadata": {},
   "source": [
    "##### Question 1-a"
   ]
  },
  {
   "cell_type": "markdown",
   "metadata": {},
   "source": [
    "$$\n",
    "L = \\frac{1}{2} (h_T - y)^2\n",
    "$$\n",
    "$$\n",
    "\\frac{\\partial L}{\\partial h_T} = (h_T - y)\n",
    "$$"
   ]
  },
  {
   "cell_type": "markdown",
   "metadata": {},
   "source": [
    "##### Question 1-b"
   ]
  },
  {
   "cell_type": "markdown",
   "metadata": {},
   "source": [
    "$$\n",
    "\\frac{\\partial L}{\\partial h_t} = \\frac{\\partial L}{\\partial h_{t}} \\frac{\\partial h_{t}}{\\partial h_{t-1}}\n",
    "$$\n",
    "$$\n",
    "\\frac{\\partial h_{t}}{\\partial h_{t-1}} = a\n",
    "$$\n",
    "$$\n",
    "\\frac{\\partial L}{\\partial h_t} = \\frac{\\partial L}{\\partial h_{t-1}} a\n",
    "$$\n",
    "$$\n",
    "\\frac{\\partial L}{\\partial h_t} = \\frac{\\partial L}{\\partial h_T} a^{T-t}\n",
    "$$"
   ]
  },
  {
   "cell_type": "markdown",
   "metadata": {},
   "source": [
    "##### Question 1-c"
   ]
  },
  {
   "cell_type": "markdown",
   "metadata": {},
   "source": [
    "$$\n",
    "\\frac{\\partial L}{\\partial a} = \\frac{\\partial L}{\\partial h_T} \\cdot \\frac{\\partial h_t}{\\partial a}\n",
    "$$\n",
    "$$\n",
    "\\frac{\\partial h_t}{\\partial a} = h_{t-1}\n",
    "$$\n",
    "$$\n",
    "\\frac{\\partial L}{\\partial a} = \\sum_{t=1}^{T} \\frac{\\partial L}{\\partial h_t} h_{t-1}\n",
    "$$\n",
    "\n",
    "$$\n",
    "\\frac{\\partial L}{\\partial b} = \\frac{\\partial L}{\\partial h_T} \\cdot \\frac{\\partial h_t}{\\partial b}\n",
    "$$\n",
    "$$\n",
    "\\frac{\\partial h_t}{\\partial b} = x_{t}\n",
    "$$\n",
    "$$\n",
    "\\frac{\\partial L}{\\partial b} = \\sum_{t=1}^{T} \\frac{\\partial L}{\\partial h_t} x_t\n",
    "$$"
   ]
  },
  {
   "cell_type": "markdown",
   "metadata": {},
   "source": [
    "##### Question 1-d"
   ]
  },
  {
   "cell_type": "markdown",
   "metadata": {},
   "source": [
    "If a is less than one as $T-t$ becomes large $a^{T-t}$ becomes 0  \n",
    "If a is greater than one as $T-t$ becomes large $a^{T-t}$ becomes large"
   ]
  },
  {
   "cell_type": "markdown",
   "metadata": {},
   "source": [
    "##### Question 1-e"
   ]
  },
  {
   "cell_type": "markdown",
   "metadata": {},
   "source": [
    "If the average of A or B are much less than 1 it becomes 0 as T is much larger than t  \n",
    "If the average of A or B are much more than 1 it becomes infiity as T is much larger than t"
   ]
  },
  {
   "cell_type": "markdown",
   "metadata": {},
   "source": [
    "##### Question 1-f"
   ]
  },
  {
   "cell_type": "markdown",
   "metadata": {},
   "source": [
    "- Gradient Clipping\n",
    "- Weight Regularization"
   ]
  }
 ],
 "metadata": {
  "language_info": {
   "name": "python"
  }
 },
 "nbformat": 4,
 "nbformat_minor": 2
}
