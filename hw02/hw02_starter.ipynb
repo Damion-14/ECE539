{
 "cells": [
  {
   "cell_type": "code",
   "execution_count": null,
   "metadata": {},
   "outputs": [],
   "source": [
    "import numpy as np\n",
    "import math\n",
    "\n",
    "# makes printing more human-friendly\n",
    "np.set_printoptions(precision=3,suppress=True)"
   ]
  },
  {
   "cell_type": "code",
   "execution_count": null,
   "metadata": {},
   "outputs": [],
   "source": [
    "# Prior probabilities\n",
    "P_pro = 0.1\n",
    "P_amateur = 0.9\n",
    "\n",
    "# Parameters for normal distribution\n",
    "mean_pro = 2.5\n",
    "std_dev_pro = 0.2\n",
    "mean_amateur = 4\n",
    "std_dev_amateur = 0.5"
   ]
  },
  {
   "cell_type": "code",
   "execution_count": null,
   "metadata": {},
   "outputs": [],
   "source": [
    "def normal_distribution(x, mean, std_dev):\n",
    "    \"\"\"\n",
    "    Compute the probability density function for the normal distribution.\n",
    "    \"\"\"\n",
    "    p = ...\n",
    "    return p\n",
    "\n",
    "t = np.array([2.5, 3., 3.5])\n",
    "print('P(t|pro) \\t', normal_distribution(t, mean_pro, std_dev_pro))\n",
    "print('P(t|amateur) \\t', normal_distribution(t, mean_amateur, std_dev_amateur))"
   ]
  },
  {
   "cell_type": "code",
   "execution_count": null,
   "metadata": {},
   "outputs": [],
   "source": [
    "def posterior_probability(time):\n",
    "    \"\"\"\n",
    "    Compute the posterior probability of a runner being a 'pro' or 'amateur' given their marathon time.\n",
    "    \"\"\"\n",
    "    # Calculate likelihoods\n",
    "    L_pro = normal_distribution(time, mean_pro, std_dev_pro)\n",
    "    L_amateur = normal_distribution(time, mean_amateur, std_dev_amateur)\n",
    "    \n",
    "    # Calculate posteriors\n",
    "    P_pro_given_time = ...\n",
    "    P_amateur_given_time = ...\n",
    "\n",
    "    return P_pro_given_time, P_amateur_given_time\n",
    "\n",
    "P_pro_given_time, P_amateur_given_time = posterior_probability(t)\n",
    "print('P(pro|t) \\t', P_pro_given_time)\n",
    "print('P(amateur|t) \\t', P_amateur_given_time)"
   ]
  },
  {
   "cell_type": "code",
   "execution_count": null,
   "metadata": {},
   "outputs": [],
   "source": [
    "def classify_runner(time):\n",
    "    \"\"\"\n",
    "    Classify a runner as 'pro' or 'amateur' based on their marathon time using MAP.\n",
    "    \"\"\"\n",
    "    # Calculate posteriors\n",
    "    P_pro_given_time, P_amateur_given_time = posterior_probability(time)\n",
    "    \n",
    "    # Classify based on the highest posterior\n",
    "    preds = []\n",
    "    for i, t in enumerate(time):\n",
    "        decision = ...  # assign 'pro' or 'amateur' according to MAP rule\n",
    "        preds.append(decision)\n",
    "    return preds\n",
    "\n",
    "# Test the function\n",
    "print('P(pro|t) \\t', classify_runner(t))"
   ]
  },
  {
   "cell_type": "code",
   "execution_count": 1,
   "metadata": {},
   "outputs": [
    {
     "ename": "NameError",
     "evalue": "name 'np' is not defined",
     "output_type": "error",
     "traceback": [
      "\u001b[0;31m---------------------------------------------------------------------------\u001b[0m",
      "\u001b[0;31mNameError\u001b[0m                                 Traceback (most recent call last)",
      "Cell \u001b[0;32mIn[1], line 2\u001b[0m\n\u001b[1;32m      1\u001b[0m \u001b[38;5;28;01mfrom\u001b[39;00m \u001b[38;5;21;01mmatplotlib\u001b[39;00m \u001b[38;5;28;01mimport\u001b[39;00m pyplot \u001b[38;5;28;01mas\u001b[39;00m plt\n\u001b[0;32m----> 2\u001b[0m t \u001b[38;5;241m=\u001b[39m \u001b[43mnp\u001b[49m\u001b[38;5;241m.\u001b[39mlinspace(\u001b[38;5;241m2.5\u001b[39m, \u001b[38;5;241m3.5\u001b[39m, \u001b[38;5;241m100\u001b[39m)  \u001b[38;5;66;03m# 100 times between 2.5 and 3.5\u001b[39;00m\n\u001b[1;32m      3\u001b[0m P_pro_given_time, P_amateur_given_time \u001b[38;5;241m=\u001b[39m \u001b[38;5;241m.\u001b[39m\u001b[38;5;241m.\u001b[39m\u001b[38;5;241m.\u001b[39m\n\u001b[1;32m      5\u001b[0m plt\u001b[38;5;241m.\u001b[39mplot(t, P_pro_given_time, label\u001b[38;5;241m=\u001b[39m\u001b[38;5;124m'\u001b[39m\u001b[38;5;124mpro\u001b[39m\u001b[38;5;124m'\u001b[39m)\n",
      "\u001b[0;31mNameError\u001b[0m: name 'np' is not defined"
     ]
    }
   ],
   "source": [
    "from matplotlib import pyplot as plt\n",
    "t = np.linspace(2.5, 3.5, 100)  # 100 times between 2.5 and 3.5\n",
    "P_pro_given_time, P_amateur_given_time = ...\n",
    "\n",
    "plt.plot(t, P_pro_given_time, label='pro')\n",
    "plt.plot(t, P_amateur_given_time, label='amateur')\n",
    "plt.xlabel('time')\n",
    "plt.grid('on')\n",
    "plt.legend()\n",
    "plt.show()"
   ]
  },
  {
   "cell_type": "code",
   "execution_count": null,
   "metadata": {},
   "outputs": [],
   "source": [
    "def sample_amateur_times(n):\n",
    "    return np.random.randn(n)*std_dev_amateur+mean_amateur\n",
    "\n",
    "def sample_pro_times(n):\n",
    "    return np.random.randn(n)*std_dev_pro+mean_pro\n",
    "\n",
    "n = 1000\n",
    "amateur_times = sample_amateur_times(n)\n",
    "decisions = ...\n",
    "P_miss_cls = ...\n",
    "print('Prob Misclassifying Amateurs', P_miss_cls)\n",
    "\n",
    "pro_times = sample_pro_times(n)\n",
    "decisions = ...\n",
    "P_miss_cls = ...\n",
    "print('Prob Misclassifying Pros', P_miss_cls)"
   ]
  },
  {
   "cell_type": "code",
   "execution_count": null,
   "metadata": {},
   "outputs": [],
   "source": []
  }
 ],
 "metadata": {
  "kernelspec": {
   "display_name": "Python 3 (ipykernel)",
   "language": "python",
   "name": "python3"
  },
  "language_info": {
   "codemirror_mode": {
    "name": "ipython",
    "version": 3
   },
   "file_extension": ".py",
   "mimetype": "text/x-python",
   "name": "python",
   "nbconvert_exporter": "python",
   "pygments_lexer": "ipython3",
   "version": "3.10.12"
  }
 },
 "nbformat": 4,
 "nbformat_minor": 4
}
