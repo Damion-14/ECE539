{
 "cells": [
  {
   "cell_type": "code",
   "execution_count": 47,
   "metadata": {},
   "outputs": [],
   "source": [
    "import numpy as np\n",
    "import math\n",
    "import scipy.stats\n",
    "from sklearn.metrics import roc_curve, auc\n",
    "# makes printing more human-friendly\n",
    "np.set_printoptions(precision=3,suppress=True)"
   ]
  },
  {
   "cell_type": "code",
   "execution_count": 3,
   "metadata": {},
   "outputs": [],
   "source": [
    "# Prior probabilities\n",
    "P_pro = 0.1\n",
    "P_amateur = 0.9\n",
    "\n",
    "# Parameters for normal distribution\n",
    "mean_pro = 2.5\n",
    "std_dev_pro = 0.2\n",
    "mean_amateur = 4\n",
    "std_dev_amateur = 0.5"
   ]
  },
  {
   "cell_type": "markdown",
   "metadata": {},
   "source": [
    "### Question 1a"
   ]
  },
  {
   "cell_type": "code",
   "execution_count": 10,
   "metadata": {},
   "outputs": [
    {
     "name": "stdout",
     "output_type": "stream",
     "text": [
      "P(t|pro) \t [1.995 0.088 0.   ]\n",
      "P(t|amateur) \t [0.009 0.108 0.484]\n"
     ]
    }
   ],
   "source": [
    "def normal_distribution(x, mean, std_dev):\n",
    "    \"\"\"\n",
    "    Compute the probability density function for the normal distribution.\n",
    "    \"\"\"\n",
    "    p = (1 / (std_dev * np.sqrt(2 * np.pi))) * np.exp(-0.5 * ((x - mean) / std_dev) ** 2)\n",
    "    return p\n",
    "\n",
    "t = np.array([2.5, 3., 3.5])\n",
    "print('P(t|pro) \\t', normal_distribution(t, mean_pro, std_dev_pro))\n",
    "print('P(t|amateur) \\t', normal_distribution(t, mean_amateur, std_dev_amateur))"
   ]
  },
  {
   "cell_type": "markdown",
   "metadata": {},
   "source": [
    "### Question 1b"
   ]
  },
  {
   "cell_type": "code",
   "execution_count": 13,
   "metadata": {},
   "outputs": [
    {
     "name": "stdout",
     "output_type": "stream",
     "text": [
      "P(pro|t) \t [0.962 0.083 0.   ]\n",
      "P(amateur|t) \t [0.038 0.917 1.   ]\n"
     ]
    }
   ],
   "source": [
    "def posterior_probability(time):\n",
    "    \"\"\"\n",
    "    Compute the posterior probability of a runner being a 'pro' or 'amateur' given their marathon time.\n",
    "    \"\"\"\n",
    "    # Calculate likelihoods\n",
    "    L_pro = normal_distribution(time, mean_pro, std_dev_pro)\n",
    "    L_amateur = normal_distribution(time, mean_amateur, std_dev_amateur)\n",
    "\n",
    "    P_time = L_pro * P_pro + L_amateur * P_amateur\n",
    "    \n",
    "    # Calculate posteriors\n",
    "    P_pro_given_time = (L_pro * P_pro) / P_time                    # P(pro|time)\n",
    "    P_amateur_given_time = (L_amateur * P_amateur) / P_time        # P(amateur|time)\n",
    "\n",
    "    return P_pro_given_time, P_amateur_given_time\n",
    "\n",
    "P_pro_given_time, P_amateur_given_time = posterior_probability(t)\n",
    "print('P(pro|t) \\t', P_pro_given_time)\n",
    "print('P(amateur|t) \\t', P_amateur_given_time)"
   ]
  },
  {
   "cell_type": "markdown",
   "metadata": {},
   "source": [
    "### Question 1c"
   ]
  },
  {
   "cell_type": "code",
   "execution_count": 15,
   "metadata": {},
   "outputs": [
    {
     "name": "stdout",
     "output_type": "stream",
     "text": [
      "P(pro|t) \t ['pro', 'amateur', 'amateur']\n"
     ]
    }
   ],
   "source": [
    "def classify_runner(time):\n",
    "    \"\"\"\n",
    "    Classify a runner as 'pro' or 'amateur' based on their marathon time using MAP.\n",
    "    \"\"\"\n",
    "    # Calculate posteriors\n",
    "    P_pro_given_time, P_amateur_given_time = posterior_probability(time)\n",
    "    \n",
    "    # Classify based on the highest posterior\n",
    "    preds = []\n",
    "    for i, t in enumerate(time):\n",
    "        decision = \"pro\" if P_pro_given_time[i] > P_amateur_given_time[i] else \"amateur\"  # assign 'pro' or 'amateur' according to MAP rule\n",
    "        preds.append(decision)\n",
    "    return preds\n",
    "\n",
    "# Test the function\n",
    "print('P(pro|t) \\t', classify_runner(t))"
   ]
  },
  {
   "cell_type": "code",
   "execution_count": 16,
   "metadata": {},
   "outputs": [
    {
     "data": {
      "image/png": "[encoded data removed]",
      "text/plain": [
       "<Figure size 640x480 with 1 Axes>"
      ]
     },
     "metadata": {},
     "output_type": "display_data"
    }
   ],
   "source": [
    "from matplotlib import pyplot as plt\n",
    "t = np.linspace(2.5, 3.5, 100)  # 100 times between 2.5 and 3.5\n",
    "P_pro_given_time, P_amateur_given_time = posterior_probability(t)\n",
    "\n",
    "plt.plot(t, P_pro_given_time, label='pro')\n",
    "plt.plot(t, P_amateur_given_time, label='amateur')\n",
    "plt.xlabel('time')\n",
    "plt.grid('on')\n",
    "plt.legend()\n",
    "plt.show()"
   ]
  },
  {
   "cell_type": "markdown",
   "metadata": {},
   "source": [
    "### Question 1d"
   ]
  },
  {
   "cell_type": "code",
   "execution_count": 37,
   "metadata": {},
   "outputs": [
    {
     "name": "stdout",
     "output_type": "stream",
     "text": [
      "Prob Misclassifying Amateurs 0.017\n",
      "Prob Misclassifying Pros 0.052\n"
     ]
    }
   ],
   "source": [
    "def sample_amateur_times(n):\n",
    "    return np.random.randn(n)*std_dev_amateur+mean_amateur\n",
    "\n",
    "def sample_pro_times(n):\n",
    "    return np.random.randn(n)*std_dev_pro+mean_pro\n",
    "\n",
    "n = 1000\n",
    "amateur_times = sample_amateur_times(n)\n",
    "decisions = classify_runner(amateur_times)\n",
    "P_miss_cls = decisions.count('pro') / len(decisions)\n",
    "print('Prob Misclassifying Amateurs', P_miss_cls)\n",
    "\n",
    "pro_times = sample_pro_times(n)\n",
    "decisions = classify_runner(pro_times)\n",
    "P_miss_cls = decisions.count('amateur') / len(decisions)\n",
    "print('Prob Misclassifying Pros', P_miss_cls)"
   ]
  },
  {
   "cell_type": "markdown",
   "metadata": {},
   "source": [
    "### Question 2a"
   ]
  },
  {
   "cell_type": "code",
   "execution_count": 38,
   "metadata": {},
   "outputs": [
    {
     "data": {
      "text/plain": [
       "19"
      ]
     },
     "execution_count": 38,
     "metadata": {},
     "output_type": "execute_result"
    }
   ],
   "source": [
    "num_spam_results = 19\n",
    "num_spam_results"
   ]
  },
  {
   "cell_type": "markdown",
   "metadata": {},
   "source": [
    "### Question 2b"
   ]
  },
  {
   "cell_type": "code",
   "execution_count": 39,
   "metadata": {},
   "outputs": [
    {
     "data": {
      "text/plain": [
       "0.75"
      ]
     },
     "execution_count": 39,
     "metadata": {},
     "output_type": "execute_result"
    }
   ],
   "source": [
    "P_TPR = 15 / (15 + 5)\n",
    "P_TPR"
   ]
  },
  {
   "cell_type": "markdown",
   "metadata": {},
   "source": [
    "### Question 2c"
   ]
  },
  {
   "cell_type": "code",
   "execution_count": 42,
   "metadata": {},
   "outputs": [
    {
     "data": {
      "text/plain": [
       "0.2"
      ]
     },
     "execution_count": 42,
     "metadata": {},
     "output_type": "execute_result"
    }
   ],
   "source": [
    "P_FPR = 4 / (4 + 16)\n",
    "P_FPR"
   ]
  },
  {
   "cell_type": "markdown",
   "metadata": {},
   "source": [
    "### Question 3a"
   ]
  },
  {
   "cell_type": "markdown",
   "metadata": {},
   "source": [
    "b = 0.3  \n",
    "| Index (k)        | **1**  | **2**  | **3**  | **4**  | **5**  | **6**  | **7**  | **8**  | **9**  | **10**  |\n",
    "|------------------|--------|--------|--------|--------|--------|--------|--------|--------|--------|--------|\n",
    "| $ P(y(k) = 1 | x(k)) $ | **0.05** | **0.15** | **0.40** | **0.55** | **0.25** | **0.45** | **0.48** | **0.62** | **0.67** | **0.75** |\n",
    "| True Label       | **0**  | **0**  | **0**  | **0**  | **1**  | **1**  | **1**  | **1**  | **1**  | **1**  |\n",
    "| **Predicted Label (b=0.3)** | **0**  | **0**  | **1**  | **1**  | **0**  | **1**  | **1**  | **1**  | **1**  | **1**  |"
   ]
  },
  {
   "cell_type": "markdown",
   "metadata": {},
   "source": [
    "### Question 3b"
   ]
  },
  {
   "cell_type": "markdown",
   "metadata": {},
   "source": [
    "\n",
    "$\n",
    "C = \\begin{bmatrix} \n",
    "TP & FN \\\\ \n",
    "FP & TN \n",
    "\\end{bmatrix}\n",
    "$\n",
    "\n",
    "From the table:\n",
    "\n",
    "- **TP:** 5 (indices: 6, 7, 8, 9, 10)\n",
    "- **FP:** 2 (indices: 3, 4)\n",
    "- **TN:** 2 (indices: 1, 2)\n",
    "- **FN:** 1 (index: 5)\n",
    "\n",
    "Thus, the confusion matrix:\n",
    "\n",
    "$\n",
    "C = \\begin{bmatrix} 5 & 1 \\\\ 2 & 2 \\end{bmatrix}\n",
    "$\n"
   ]
  },
  {
   "cell_type": "markdown",
   "metadata": {},
   "source": [
    "### Question 3c"
   ]
  },
  {
   "cell_type": "markdown",
   "metadata": {},
   "source": [
    "1. **Sensitivity:**  \n",
    "   $\n",
    "   \\text{TPR} = \\frac{TP}{TP + FN} = \\frac{5}{5 + 1} = \\frac{5}{6} \\approx 0.8333\n",
    "   $\n",
    "\n",
    "2. **Specificity:**  \n",
    "   $\n",
    "   \\text{TNR} = \\frac{TN}{TN + FP} = \\frac{2}{2 + 2} = \\frac{2}{4} = 0.5\n",
    "   $\n",
    "\n",
    "3. **False Alarm:**  \n",
    "   $\n",
    "   \\text{FPR} = \\frac{FP}{FP + TN} = \\frac{2}{2 + 2} = \\frac{2}{4} = 0.5\n",
    "   $\n",
    "\n",
    "4. **Miss:**  \n",
    "   $\n",
    "   \\text{FNR} = \\frac{FN}{TP + FN} = \\frac{1}{1 + 5} = \\frac{1}{6} = \\approx 0.167\n",
    "   $\n",
    "\n",
    "5. **Precision:**  \n",
    "   $\n",
    "   \\text{Precision} = \\frac{TP}{TP + FP} = \\frac{5}{5 + 2} = \\frac{5}{7} \\approx 0.714\n",
    "   $\n",
    "\n",
    "6. **Recall:**  \n",
    "   $\n",
    "   \\text{Recall} = \\frac{TP}{TP + FN} = \\frac{5}{5 + 1} = \\frac{5}{6} \\approx 0.8333\n",
    "   $\n",
    "   \n",
    "6. **Accuracy:**  \n",
    "   $\n",
    "   \\text{Accuracy} = \\frac{TP + TN}{TP + TN + FP + FN} = \\frac{5 + 2}{10} = \\frac{7}{10} = 0.7\n",
    "   $\n"
   ]
  },
  {
   "cell_type": "markdown",
   "metadata": {},
   "source": [
    "### Question 3d"
   ]
  },
  {
   "cell_type": "code",
   "execution_count": 60,
   "metadata": {},
   "outputs": [
    {
     "data": {
      "image/png": "[encoded data removed]",
      "text/plain": [
       "<Figure size 800x600 with 1 Axes>"
      ]
     },
     "metadata": {},
     "output_type": "display_data"
    },
    {
     "name": "stdout",
     "output_type": "stream",
     "text": [
      "Area Under the Curve (AUC): 0.8333\n"
     ]
    }
   ],
   "source": [
    "P_y_given_x = [0.05, 0.15, 0.40, 0.55, 0.25, 0.45, 0.48, 0.62, 0.67, 0.75]\n",
    "true_labels = [0, 0, 0, 0, 1, 1, 1, 1, 1, 1]\n",
    "\n",
    "def calculate_tpr_fpr(P_y_given_x, true_labels, threshold):\n",
    "    # y(k) = 0 if P (y(k) = 1|x(k)) ≤ b;\n",
    "    predicted_labels = [1 if p > threshold else 0 for p in P_y_given_x]\n",
    "    \n",
    "    TP = sum((pred == 1) and (true == 1) for pred, true in zip(predicted_labels, true_labels))\n",
    "    FP = sum((pred == 1) and (true == 0) for pred, true in zip(predicted_labels, true_labels))\n",
    "    TN = sum((pred == 0) and (true == 0) for pred, true in zip(predicted_labels, true_labels))\n",
    "    FN = sum((pred == 0) and (true == 1) for pred, true in zip(predicted_labels, true_labels))\n",
    "    \n",
    "    TPR = TP / (TP + FN) if (TP + FN) != 0 else 0\n",
    "    FPR = FP / (FP + TN) if (FP + TN) != 0 else 0\n",
    "    \n",
    "    return TPR, FPR\n",
    "\n",
    "thresholds = np.linspace(0, 1, 1000)\n",
    "tpr_values = []\n",
    "fpr_values = []\n",
    "\n",
    "for threshold in thresholds:\n",
    "    tpr, fpr = calculate_tpr_fpr(P_y_given_x, true_labels, threshold)\n",
    "    tpr_values.append(tpr)\n",
    "    fpr_values.append(fpr)\n",
    "\n",
    "plt.figure(figsize=(8, 6))\n",
    "plt.plot(fpr_values, tpr_values, color='b', label='ROC curve (AUC = {:.2f})'.format(auc(fpr_values, tpr_values)))\n",
    "plt.title('ROC Curve')\n",
    "plt.xlabel('False Positive Rate (FPR)')\n",
    "plt.ylabel('True Positive Rate (TPR)')\n",
    "plt.legend(loc='lower right')\n",
    "plt.grid(True)\n",
    "plt.show()\n",
    "\n",
    "roc_auc = auc(fpr_values, tpr_values)\n",
    "print(f\"Area Under the Curve (AUC): {roc_auc.round(4)}\")"
   ]
  }
 ],
 "metadata": {
  "kernelspec": {
   "display_name": "Python (sklearn-env)",
   "language": "python",
   "name": "sklearn-env"
  },
  "language_info": {
   "codemirror_mode": {
    "name": "ipython",
    "version": 3
   },
   "file_extension": ".py",
   "mimetype": "text/x-python",
   "name": "python",
   "nbconvert_exporter": "python",
   "pygments_lexer": "ipython3",
   "version": "3.11.9"
  }
 },
 "nbformat": 4,
 "nbformat_minor": 4
}
