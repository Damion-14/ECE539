{
 "cells": [
  {
   "cell_type": "code",
   "execution_count": 3,
   "id": "b442caa2-c8ee-409d-8c3b-4ef09f980105",
   "metadata": {},
   "outputs": [],
   "source": [
    "import torch\n",
    "import torch.nn as nn"
   ]
  },
  {
   "cell_type": "code",
   "execution_count": 4,
   "id": "b7f45933-ccbd-4e6d-8767-de2876032632",
   "metadata": {},
   "outputs": [
    {
     "name": "stdout",
     "output_type": "stream",
     "text": [
      "torch.Size([1, 10])\n"
     ]
    }
   ],
   "source": [
    "# LeNet implementation\n",
    "lenet = nn.Sequential(\n",
    "    ...\n",
    ")\n",
    "\n",
    "# Forward a dummy image through the LeNet model\n",
    "dummy_img = torch.randn(1, 1, 32, 32)\n",
    "dummy_output = lenet(dummy_img)\n",
    "print(dummy_output.shape)"
   ]
  },
  {
   "cell_type": "code",
   "execution_count": 6,
   "id": "e9581640-6259-4162-a5f3-b6e2de01ee34",
   "metadata": {},
   "outputs": [
    {
     "name": "stdout",
     "output_type": "stream",
     "text": [
      "torch.Size([1, 256, 28, 28])\n"
     ]
    }
   ],
   "source": [
    "class ConvBlock((nn.Module):\n",
    "    def __init__(self, in_chans=192, out_chans=256, kernel_size=(3,3), stride=(1,1), padding=(1,1)):\n",
    "        super().__init__()\n",
    "        self.conv = nn.Conv2d(in_chans, out_chans, kernel_size=kernel_size, stride=stride, padding=padding)\n",
    "        self.bn = nn.BatchNorm2d(out_chans)\n",
    "        self.relu = nn.ReLU()\n",
    "\n",
    "    def forward(self, x):\n",
    "        x = self.conv(x)\n",
    "        x = self.bn(x)\n",
    "        x = self.relu(x)\n",
    "        return x\n",
    "        \n",
    "class InceptionBlock(nn.Module):\n",
    "    def __init__(self, in_chans=192, out_chans=256):\n",
    "        super().__init__()\n",
    "        self.branch_1x1 = nn.Sequential(\n",
    "            ...\n",
    "        )\n",
    "        self.branch_3x3 = nn.Sequential(\n",
    "            ...\n",
    "        )\n",
    "        self.branch_5x5 = nn.Sequential(\n",
    "            ...\n",
    "        )\n",
    "        self.branch_maxpool = nn.Sequential(\n",
    "            ...\n",
    "        )\n",
    "        \n",
    "    def forward(self, x):\n",
    "        ...\n",
    "        return x_out\n",
    "\n",
    "# Forward a dummy activation map through the inception module\n",
    "incpt = InceptionBlock(in_chans=192, out_chans=256)\n",
    "dummy_activ = torch.randn(1, 192, 28, 28)\n",
    "dummy_output = incpt(dummy_activ)\n",
    "print(dummy_output.shape)\n",
    "\n"
   ]
  },
  {
   "cell_type": "code",
   "execution_count": null,
   "id": "492b65b5-d20a-42d4-9a41-b5486a9e1436",
   "metadata": {},
   "outputs": [],
   "source": []
  }
 ],
 "metadata": {
  "kernelspec": {
   "display_name": "Python 3 (ipykernel)",
   "language": "python",
   "name": "python3"
  },
  "language_info": {
   "codemirror_mode": {
    "name": "ipython",
    "version": 3
   },
   "file_extension": ".py",
   "mimetype": "text/x-python",
   "name": "python",
   "nbconvert_exporter": "python",
   "pygments_lexer": "ipython3",
   "version": "3.10.12"
  }
 },
 "nbformat": 4,
 "nbformat_minor": 5
}
