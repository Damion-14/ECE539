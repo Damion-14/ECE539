{
 "cells": [
  {
   "cell_type": "code",
   "execution_count": null,
   "metadata": {
    "id": "mze8tbc2_1R3"
   },
   "outputs": [],
   "source": [
    "import torch\n",
    "import torch.nn as nn\n",
    "import torch.nn.functional as F\n",
    "from collections import Counter\n",
    "from torch.utils.data import Dataset, DataLoader\n",
    "import numpy as np\n",
    "import re\n",
    "device = 'cuda:0' if torch.cuda.is_available() else 'cpu'"
   ]
  },
  {
   "cell_type": "code",
   "execution_count": null,
   "metadata": {
    "jupyter": {
     "outputs_hidden": false
    },
    "pycharm": {
     "name": "#%%\n"
    },
    "id": "sZT0cfcU_1R7",
    "outputId": "ac622873-2e56-423f-b2cd-62331240b584"
   },
   "outputs": [
    {
     "name": "stdout",
     "output_type": "stream",
     "text": [
      "The Time Machine, by H. G. Wells [1898]\n",
      "I\n",
      "The Time Traveller (for so it will be convenient to speak of him)\n",
      "was expounding a recondite matter to us. His grey eyes shone and\n",
      "twinkled, and his usually pale face was flushed and animated. The\n",
      "fire burned brightly, and the soft radiance of the incandescent\n",
      "lights in the lilies of silver caught the bubbles that flashed and\n",
      "passed in our glasses. Our chairs, being his patents, embraced and\n",
      "caressed us rather than submitted to be sat upon, and there was that\n",
      "luxurious after-dinner atmosphere when thought roams gracefully\n"
     ]
    }
   ],
   "source": [
    "corpus = [line.strip() for line in open('TheTimeMachine.txt') if line.strip()]\n",
    "print(\"\\n\".join(corpus[:10]))\n",
    "\n",
    "# Tokenize the sentences into words\n",
    "# All lower caps. Ignore punctuation.\n",
    "corpus = [re.sub('[^A-Za-z0-9]+', ' ', line).lower() for line in corpus]\n",
    "corpus = [re.sub(' +', ' ', line) for line in corpus]\n",
    "corpus = [word for line in corpus for word in line.split()]"
   ]
  },
  {
   "cell_type": "code",
   "execution_count": null,
   "metadata": {
    "jupyter": {
     "outputs_hidden": false
    },
    "pycharm": {
     "name": "#%%\n"
    },
    "id": "QREgTlzZ_1R9",
    "outputId": "7c2f20de-609a-48de-83c4-54bd8e8f411a"
   },
   "outputs": [
    {
     "name": "stdout",
     "output_type": "stream",
     "text": [
      "  * Found 4582 unique words in the provided corpus (of size 32776).\n",
      "  * Created vocabulary from corpus.\n",
      "  * The 10 most common words are the following:\n",
      "[('the', 2261), ('i', 1267), ('and', 1245), ('of', 1155), ('a', 816), ('to', 695), ('was', 552), ('in', 541), ('that', 443), ('my', 440)]\n"
     ]
    }
   ],
   "source": [
    "vocab_size = 5000\n",
    "tkn_counter = Counter([word for word in corpus])\n",
    "vocab = {word: idx for idx, (word, _) in enumerate(tkn_counter.most_common(vocab_size))}\n",
    "vocab[\"/UNK\"] = len(vocab)\n",
    "print(f\"  * Found {len(vocab)} unique words in the provided corpus (of size {len(corpus)}).\\n\"\n",
    "      f\"  * Created vocabulary from corpus.\\n\"\n",
    "      f\"  * The 10 most common words are the following:\")\n",
    "print(tkn_counter.most_common(10))"
   ]
  },
  {
   "cell_type": "code",
   "execution_count": null,
   "metadata": {
    "jupyter": {
     "outputs_hidden": false
    },
    "pycharm": {
     "name": "#%%\n"
    },
    "id": "K7oCdswZ_1R9",
    "outputId": "12d74b92-ca23-448e-c142-486b6b40cc16"
   },
   "outputs": [
    {
     "name": "stdout",
     "output_type": "stream",
     "text": [
      "\n",
      "Random snippet from the corpus.\n",
      "  * Token IDS:\t tensor([ 171,   50,    1,   52,    0,   49, 1176,   36,  133,   13,    1,  377,\n",
      "          14,    4,  506,  697,   85,   18,   20,  855, 2619,    1,    6,   36,\n",
      "           5,  585, 2620,    6, 1632,   59,    4, 1168,   85,    0, 2621,    3,\n",
      "        2622, 2623,   17,    5,  149,    5,    4,  513, 2624,    0, 2625,    3,\n",
      "          82, 1633])\n",
      "  * Words:\t\t space which i or the machine occupied so long as i travelled at a high velocity through time this scarcely mattered i was so to speak attenuated was slipping like a vapour through the interstices of intervening substances but to come to a stop involved the jamming of myself molecule\n"
     ]
    }
   ],
   "source": [
    "class TextCorpusDataset(Dataset):\n",
    "    def __init__(self, corpus, vocab, snippet_len=50):\n",
    "        super().__init__()\n",
    "        self.corpus = corpus\n",
    "        self.snippet_len = snippet_len\n",
    "\n",
    "        # Vocabulary (word-to-index mapping)\n",
    "        self.vocab = vocab\n",
    "\n",
    "        # Inverse vocabulary (index-to-word mapping)\n",
    "        self.inv_vocab = {idx: word for word, idx in self.vocab.items()}\n",
    "\n",
    "    def convert2idx(self, word_sequence):\n",
    "        return [self.vocab[word if word in self.vocab else \"/UNK\"] for word in word_sequence]\n",
    "\n",
    "    def convert2words(self, idx_sequence):\n",
    "        return [self.inv_vocab[idx] for idx in idx_sequence]\n",
    "\n",
    "    def __len__(self):\n",
    "        return (len(self.corpus) - self.snippet_len) // self.snippet_len\n",
    "\n",
    "    def __getitem__(self, idx):\n",
    "        idx = idx * self.snippet_len\n",
    "        snippet = self.corpus[idx:idx+self.snippet_len]\n",
    "        snippet = torch.tensor(self.convert2idx(snippet))\n",
    "        return snippet\n",
    "\n",
    "# Test dataset function\n",
    "dataset = TextCorpusDataset(corpus, vocab, snippet_len=50)\n",
    "snippet = dataset[123]\n",
    "print(\"\\nRandom snippet from the corpus.\")\n",
    "print(\"  * Token IDS:\\t\", snippet)\n",
    "print(\"  * Words:\\t\\t\", \" \".join([dataset.inv_vocab[i] for i in snippet.tolist()]))"
   ]
  },
  {
   "cell_type": "code",
   "execution_count": null,
   "metadata": {
    "id": "_a8FNcEr_1R-",
    "outputId": "caf14259-73d9-456e-eba0-6ed2d0c16090"
   },
   "outputs": [
    {
     "name": "stdout",
     "output_type": "stream",
     "text": [
      "['audience', 'tolerance', 'enormous', 'audience', 'male']\n"
     ]
    }
   ],
   "source": [
    "class SimpleRNN(nn.Module):\n",
    "    \"\"\"A RNN Model implemented from scratch.\"\"\"\n",
    "    def __init__(self, vocab_size, hidden_dim):\n",
    "        super().__init__()\n",
    "        self.vocab_size, self.hidden_dim = vocab_size, hidden_dim\n",
    "\n",
    "        self.linear_inp2state = nn.Linear(vocab_size, hidden_dim)\n",
    "        self.linear_state2state = nn.Linear(hidden_dim, hidden_dim)\n",
    "        self.linear_state2out = nn.Linear(hidden_dim, vocab_size)\n",
    "\n",
    "        for m in self.modules():\n",
    "            if isinstance(m, nn.Linear):\n",
    "                nn.init.normal_(m.weight, std=0.01)\n",
    "                nn.init.zeros_(m.bias)\n",
    "\n",
    "    def initial_state(self, batch_size, device):\n",
    "        return torch.zeros((batch_size, self.hidden_dim)).to(device)\n",
    "\n",
    "    def forward(self, inp_seq, state=None):\n",
    "        n_steps, batch_size = inp_seq.shape[:2]\n",
    "\n",
    "        # If state is not provided, get initial state.\n",
    "        if state is None:\n",
    "            state = self.initial_state(batch_size, inp_seq.device)\n",
    "\n",
    "        outputs = []\n",
    "        for t in range(n_steps):\n",
    "            state = torch.tanh(self.linear_inp2state(inp_seq[t]) + self.linear_state2state(state))\n",
    "            out = self.linear_state2out(state)\n",
    "            outputs.append(out)\n",
    "\n",
    "        return torch.stack(outputs, 0), state\n",
    "\n",
    "hidden_dim = 256\n",
    "model = SimpleRNN(len(vocab), hidden_dim).to(device)\n",
    "\n",
    "sentence = \"today is too darn cold\".split()\n",
    "inp = torch.tensor(dataset.convert2idx(sentence), device=device)[:, None]\n",
    "inp = F.one_hot(inp, len(vocab)).float()\n",
    "Yhat, new_state = model(inp)\n",
    "Yhat = Yhat.squeeze(1).argmax(-1)\n",
    "print(dataset.convert2words(Yhat.tolist()))"
   ]
  },
  {
   "cell_type": "code",
   "execution_count": null,
   "metadata": {
    "jupyter": {
     "outputs_hidden": false
    },
    "pycharm": {
     "name": "#%%\n"
    },
    "id": "JNV5FDSI_1R_",
    "outputId": "d6a40909-cb92-4d2e-f082-a0f8f366ed78"
   },
   "outputs": [
    {
     "data": {
      "text/plain": "'i do not mean to ask you to accept anything without reasonable change what s time how warm i was'"
     },
     "execution_count": 33,
     "metadata": {},
     "output_type": "execute_result"
    }
   ],
   "source": [
    "@torch.no_grad()\n",
    "def generate(prefix, num_preds, model, vocab):\n",
    "    \"\"\"Generates a sentence following the `prefix`.\"\"\"\n",
    "    prefix = torch.tensor(dataset.convert2idx(prefix.split()), device=device).long()\n",
    "\n",
    "    state, outputs = None, [prefix[0]]\n",
    "    for i in range(1, len(prefix) + num_preds):\n",
    "        # Prepare one token at a time to feed the model\n",
    "        inp = F.one_hot(outputs[-1], len(vocab)).float()\n",
    "        inp = inp[None, None]\n",
    "\n",
    "        # Compute the prediction for the next token\n",
    "        yhat, state = model(inp, state)\n",
    "\n",
    "        if i < len(prefix):\n",
    "            # During warmup (while parsing the prefix), we ignore the model prediction\n",
    "            outputs.append(prefix[i])\n",
    "        else:\n",
    "            # Otherwise, append the model prediction to the output list\n",
    "            yhat = yhat.argmax(dim=-1)[0, 0].long()\n",
    "            outputs.append(yhat)\n",
    "    return ' '.join([dataset.inv_vocab[tkn.item()] for tkn in outputs])\n",
    "\n",
    "generate('i do not mean to ask you to accept anything', 10, model, vocab)"
   ]
  },
  {
   "cell_type": "code",
   "execution_count": null,
   "metadata": {
    "jupyter": {
     "outputs_hidden": false
    },
    "pycharm": {
     "name": "#%%\n"
    },
    "id": "cjkqSRto_1R_",
    "outputId": "196a43e5-5736-4824-9507-52625a687d17"
   },
   "outputs": [
    {
     "name": "stdout",
     "output_type": "stream",
     "text": [
      "Epoch 0 | Perplexity 1225.2. Loss: 7.111\n",
      "i do not mean to ask you to accept anything the the and and the the and of the the and of the the and of the the and of the the and of the the and of the the and of the the and of the the and of the the and of the the and of the the\n",
      "Epoch 1 | Perplexity 607.9. Loss: 6.410\n",
      "i do not mean to ask you to accept anything and the time of the time and of the time of the time and of the time of the time and of the time of the time and of the time of the time and of the time of the time and of the time of the time and of\n",
      "Epoch 2 | Perplexity 452.5. Loss: 6.115\n",
      "i do not mean to ask you to accept anything the time of the time traveller of the time traveller of the time traveller of the time traveller of the time traveller of the time traveller of the time traveller of the time traveller of the time traveller of the time traveller of the time traveller of the time traveller\n",
      "Epoch 3 | Perplexity 353.2. Loss: 5.867\n",
      "i do not mean to ask you to accept anything the time traveller of the time traveller of the time traveller of the time traveller of the time traveller of the time traveller of the time traveller of the time traveller of the time traveller of the time traveller of the time traveller of the time traveller of the time\n",
      "Epoch 4 | Perplexity 281.7. Loss: 5.641\n",
      "i do not mean to ask you to accept anything the time traveller of the time traveller of the time traveller of the time traveller of the time traveller of the time traveller of the time traveller of the time traveller of the time traveller of the time traveller of the time traveller of the time traveller of the time\n",
      "Epoch 5 | Perplexity 229.3. Loss: 5.435\n",
      "i do not mean to ask you to accept anything the time traveller of the time traveller of the time traveller of the time traveller of the time traveller of the time traveller of the time traveller of the time traveller of the time traveller of the time traveller of the time traveller of the time traveller of the time\n",
      "Epoch 6 | Perplexity 187.2. Loss: 5.232\n",
      "i do not mean to ask you to accept anything the time traveller of the time traveller of the time traveller of the time traveller of the time traveller of the time traveller of the time traveller of the time traveller of the time traveller of the time traveller of the time traveller of the time traveller of the time\n",
      "Epoch 7 | Perplexity 155.8. Loss: 5.049\n",
      "i do not mean to ask you to accept anything you was at the time traveller of the time traveller of the time traveller of the time traveller of the time traveller of the time traveller of the time traveller of the time traveller of the time traveller of the time traveller of the time traveller of the time traveller\n",
      "Epoch 8 | Perplexity 128.4. Loss: 4.855\n",
      "i do not mean to ask you to accept anything but i looked at the other and the time traveller and i looked at the other and the time traveller and i looked at the other and the time traveller and i was reminded of time traveller the time traveller and i was reminded of time traveller figure of the\n",
      "Epoch 9 | Perplexity 107.1. Loss: 4.673\n",
      "i do not mean to ask you to accept anything but i found that i looked at my hand and the door and the garden had figure of watch and the great sphinx of the day and a click and the time machine and i was reminded of time machine i had been the time machine was not and brass\n",
      "Epoch 10 | Perplexity 89.0. Loss: 4.489\n",
      "i do not mean to ask you to accept anything but i was not a strange of the own time and i was at the other he hesitated i looked at the time machine i am he now i looked at the time machine i had been a whirling of the garden and or the door and the other opened\n",
      "Epoch 11 | Perplexity 75.2. Loss: 4.320\n",
      "i do not mean to ask you to accept anything but i was a moment i was at the time traveller i may see a whirling mass of the time traveller was not the second of the time traveller and i looked at the other and the time traveller still i looked at the other and the garden and he\n",
      "Epoch 12 | Perplexity 62.5. Loss: 4.135\n",
      "i do not mean to ask you to accept anything but i was not a lifetime the time traveller and i looked at the other and figure of the age of our glass falling and the other and figure we looked at each other then i came at the time and figure of the triassic of our own time and\n",
      "Epoch 13 | Perplexity 52.1. Loss: 3.953\n",
      "i do not mean to ask you to accept anything here and the other and figure we looked at the other he hesitated i looked at the other and the garden was not a time and the other he returned and the floor of the other slam or the time traveller appeared we looked at the other and the garden\n",
      "Epoch 14 | Perplexity 43.4. Loss: 3.771\n",
      "i do not mean to ask you to accept anything here and the latter and a thud the figure of the skylight slam seated myself and the publisher and the black and brass a moment and the other the triassic of the whirled and i did men now to the time traveller and we looked at each other then ideas\n",
      "Epoch 15 | Perplexity 36.4. Loss: 3.595\n",
      "i do not mean to ask you to accept anything wonder and he s man and then he looked at my watch and i am at the other and that i opened at the time and i am at the time and i am and now a moment at the other then ideas i looked at my watch and a\n",
      "Epoch 16 | Perplexity 30.6. Loss: 3.420\n",
      "i do not mean to ask you to accept anything wonder and then it s awfully good of one and the time traveller appeared to the riddles of our own time and i may do now to do you lunch at the time and i may even now to the time traveller and there was a strange thing of the\n",
      "Epoch 17 | Perplexity 26.2. Loss: 3.267\n",
      "i do not mean to ask you to accept anything to be about the time traveller and i was reminded by an advertisement that i wonder at the time machine or only i do at the floor of the laboratory had not a pane of figure we looked at each other the ideas of the nearer man and the man\n",
      "Epoch 18 | Perplexity 22.5. Loss: 3.111\n",
      "i do not mean to ask you to accept anything to see the time traveller or we looked at each other then ideas i was reminded by an advertisement that i did not a lifetime and the time traveller as i looked at my watch and the garden opened and the time traveller appeared we looked at each other then\n",
      "Epoch 19 | Perplexity 19.3. Loss: 2.958\n",
      "i do not mean to ask you to accept anything to see the door at the time traveller or the time traveller in his watch and a strange and figure we looked at each other then ideas i was reminded by an advertisement that i did not a lifetime and the garden and as i looked at my watch and\n",
      "Epoch 20 | Perplexity 16.7. Loss: 2.813\n",
      "i do not mean to ask you to accept anything to see the door at the laboratory slam seated the man servant appeared we looked at each other then ideas came into the time traveller s a man here i was reminded the thing and he not never returned to the time traveller but i know why you came and\n",
      "Epoch 21 | Perplexity 14.5. Loss: 2.675\n",
      "i do not mean to ask you to accept anything to speak he said i know why you must be that i had never returned epilogue one cannot choose but wonder will he looked at the time traveller s sitting he reminded up and looked at each other then ideas as we as i know why you came and it\n",
      "Epoch 22 | Perplexity 12.8. Loss: 2.549\n",
      "i do not mean to ask you to accept anything to speak that i must wait a lifetime the time traveller vanished three years ago and as everybody knows now he has never returned epilogue one cannot choose but wonder will he looked into the garden and as i say i know so and the time machine to you know\n",
      "Epoch 23 | Perplexity 11.2. Loss: 2.418\n",
      "i do not mean to ask you to accept anything lunch i never felt you cannot travel the lever and the thames had got just been blown as i felt that something strange had happened and misery the moment could not distinguish what the strange thing might be as i stood staring the door into the garden opened and the\n",
      "Epoch 24 | Perplexity 10.1. Loss: 2.309\n",
      "i do not mean to ask you to accept anything without reasonable beside it s some good i said the door and as i looked at each other then ideas i was reminded by an advertisement that i had promised to meet richardson the publisher at two i looked at my watch and i am never returned to you that\n",
      "Epoch 25 | Perplexity 9.0. Loss: 2.195\n",
      "i do not mean to ask you to accept anything to speak he said i know why you came and it s awfully good of you there s some magazines here if i could see the phrase be wandering on some plesiosaurus haunted oolitic coral reef or beside the lonely saline lakes of the triassic age or did not go\n",
      "Epoch 26 | Perplexity 8.0. Loss: 2.083\n",
      "i do not mean to ask you to accept anything without reasonable times i said i know why you came and it s awfully good of you there s some magazines here if you will come up to the touch of broken there was the faint sun s exactly the time traveller vanished three years ago and as everybody knows\n",
      "Epoch 27 | Perplexity 7.2. Loss: 1.978\n",
      "i do not mean to ask you to accept anything without reasonable never tried to the time traveller as three years ago and as everybody knows now he has never returned epilogue one cannot choose but wonder will he looked round the heat of two thousand falling or the time traveller and he looked at the time traveller i never\n",
      "Epoch 28 | Perplexity 6.6. Loss: 1.882\n",
      "i do not mean to ask you to accept anything without reasonable times he said i know why you came and it s awfully good of you there s some magazines here if you know i don t know i said the story opened and the man servant appeared we looked at each other then ideas as i had come\n",
      "Epoch 29 | Perplexity 6.0. Loss: 1.785\n",
      "i do not mean to ask you to accept anything without reasonable times he said i know why you came and it s awfully good of you there s some magazines here if you will go forward to be that he came into my mind i do not see a ghostly indistinct figure in the sky and the water had\n",
      "Epoch 30 | Perplexity 5.4. Loss: 1.692\n",
      "i do not mean to ask you to accept anything without reasonable to the table i had want to a living and hesitated and i could not a kind of surprise or the pale light of a day or a huge suggestion of the time traveller or i took hold of the time machine or not the second perhaps still\n",
      "Epoch 31 | Perplexity 5.0. Loss: 1.605\n",
      "i do not mean to ask you to accept anything without reasonable to the great hall and as it seemed to be to see the thing in a long years i got to the table and as it say i had been all if you may use of phrase the time traveller s face i don t know if i\n",
      "Epoch 32 | Perplexity 4.6. Loss: 1.522\n",
      "i do not mean to ask you to accept anything without reasonable to be that i had seen the sense of my pocket and why upon the idea of the sun had apparently just been blown in i felt an unreasonable amazement i knew of something strange had happened and for the moment could not distinguish what the strange thing\n",
      "Epoch 33 | Perplexity 4.2. Loss: 1.444\n",
      "i do not mean to ask you to accept anything to speak to me that i had promised to meet richardson the publisher at two i looked at my watch and i am i got up and went down into the past and the other i heard on the little of the hill i heard an exclamation oddly truncated at\n",
      "Epoch 34 | Perplexity 3.9. Loss: 1.368\n",
      "i do not mean to ask you to accept anything to speak to me that i had promised to meet richardson the publisher at two i looked at my watch and i am my eyes the time traveller s face i saw again and looked round me as i opened the door and from within came the sound of broken\n",
      "Epoch 35 | Perplexity 3.7. Loss: 1.299\n",
      "i do not mean to ask you to accept anything without reasonable enough for it s time he said i was reminded of an advertisement that i had promised to meet richardson the publisher at two i looked at my watch and i am here figure there in the plain i was not too happened for a moment i was\n",
      "Epoch 36 | Perplexity 3.4. Loss: 1.233\n",
      "i do not mean to ask you to accept anything without reasonable enough for it was the thing as well as i stood at the door i was want to go he said i go going to the sun s heat and vague forth into the medical man and i began to take one of the nearer ages in which\n",
      "Epoch 37 | Perplexity 3.2. Loss: 1.169\n",
      "i do not mean to ask you to accept anything without reasonable ground for it you to feel it s natural good of a man s some magazines here if you may think that is the thing the thing i had come to a stop or figure other he apparently in the future and the twilight the time traveller was\n",
      "Epoch 38 | Perplexity 3.0. Loss: 1.111\n",
      "i do not mean to ask you to accept anything without reasonable as i stood up and looked round the passage here and there was a strange thing that the sky was the same world i had been apparently it always good my own time he seemed to be while i looked at each other look at the dials at\n",
      "Epoch 39 | Perplexity 2.9. Loss: 1.054\n",
      "i do not mean to ask you to accept anything without reasonable ground for it you to get away i saw that he said the editor be not said the time traveller and he said the psychologist it might be the thing was so i wonder to the machine but i am absolutely wrong to you will go in the\n",
      "Epoch 40 | Perplexity 2.7. Loss: 1.000\n",
      "i do not mean to ask you to accept anything without reasonable enough for it was a moment i saw that i had got to the sun but you can a second perhaps as the others it towards the door presently a long years half an odd he of it the time traveller was not there were the men of\n",
      "Epoch 41 | Perplexity 2.6. Loss: 0.947\n",
      "i do not mean to ask you to accept anything without reasonable without dust was a small apartment and the little people were no longer a strange and photographs he would bring with him but i am beginning now to fear that i must wait a lifetime the time traveller vanished three years ago and as everybody knows now he\n",
      "Epoch 42 | Perplexity 2.5. Loss: 0.903\n",
      "i do not mean to ask you to accept anything without reasonable without for me i had only a time then or not the big way i saw the sun had come to the forward with a nightmare of space and then like the darkness was so as i stood there and the men of the door i heard his\n",
      "Epoch 43 | Perplexity 2.4. Loss: 0.860\n",
      "i do not mean to ask you to accept anything without reasonable good he said i saw the same thing was a harsh and a thud thud the sky was the lamp and he was not on the hill side of the door i heard an exclamation oddly truncated at the end and a click and a thud a gust\n",
      "Epoch 44 | Perplexity 2.3. Loss: 0.816\n",
      "i do not mean to ask you to accept anything without reasonable ground for it you and now i came into the hall and fell upon the door he was not there but the time traveller s face of the lamp in his pocket and now i no most of a time machine or not the thing in which he\n",
      "Epoch 45 | Perplexity 2.2. Loss: 0.783\n",
      "i do not mean to ask you to accept anything without reasonable ground he said i struck the same traveller anticipation gone i had seen i felt assured of the time i began to what a ghostly indistinct figure sitting in a whirling mass of black and brass for a moment a figure so in a moment i was he\n",
      "Epoch 46 | Perplexity 2.1. Loss: 0.748\n",
      "i do not mean to ask you to accept anything without reasonable good for it was a certain pale which had long since dropped to a climax one and tried to grow in a moment of the door was the same way and the little people were at the mechanism in a thick dust and so another thousands i lay\n",
      "Epoch 47 | Perplexity 2.0. Loss: 0.714\n",
      "i do not mean to ask you to accept anything without reasonable by my ears was a small strange moving white and fell in a slower he opened his laboratory wandered about the room i only want half an hour he said i know why you came and it s awfully good of you there s some magazines here if\n",
      "Epoch 48 | Perplexity 2.0. Loss: 0.682\n",
      "i do not mean to ask you to accept anything without reasonable good for its livid green liverworts and lichens seemed lifeless and the thing was still travelling with a time machine or not the medical man seemed to be some laughed at that i took one of a very beautiful and now and no very hands he took me\n",
      "Epoch 49 | Perplexity 1.9. Loss: 0.651\n",
      "i do not mean to ask you to accept anything without reasonable ground for it you he took up a daily paper what was he going to do before lunch time then suddenly i was reminded by an advertisement that i had promised to meet richardson the publisher at two i looked at my watch and i am here if\n",
      "Epoch 50 | Perplexity 1.9. Loss: 0.624\n",
      "i do not mean to ask you to accept anything without reasonable ground for it you will soon admit as much as i could see the other in my first time you was not there i seemed to see a ghostly indistinct figure sitting in a whirling mass of black and brass for a moment a figure so man had\n",
      "Epoch 51 | Perplexity 1.8. Loss: 0.598\n",
      "i do not mean to ask you to accept anything without reasonable him for my own time i had to a half indistinct figure so much at the time machine i was left going to do the eye thing might be as i stood staring the door into the garden opened and the man servant appeared we looked at each\n",
      "Epoch 52 | Perplexity 1.8. Loss: 0.572\n",
      "i do not mean to ask you to accept anything without reasonable ground for the time traveller hesitated i went on the floor the time traveller was not there i seemed to see a ghostly indistinct figure sitting in a whirling mass of black and brass for a moment a figure so in the end and his hair he looked\n",
      "Epoch 53 | Perplexity 1.7. Loss: 0.550\n",
      "i do not mean to ask you to accept anything without reasonable now i remarked that the sun was still on the smoking room he came into the hall with us in a foolish way in the end and now into the strange world little figures that it was full of the stir and now i realized that i was\n",
      "Epoch 54 | Perplexity 1.7. Loss: 0.529\n",
      "i do not mean to ask you to accept anything without reasonable without for me and i am beginning to him i hesitated then he said the psychologist traveller took the door but the night and then i tried to go to him he said he said filby with dinner at any i knew of the lever in my hand\n",
      "Epoch 55 | Perplexity 1.7. Loss: 0.512\n",
      "i do not mean to ask you to accept anything without reasonable without is it i saw that the eye thing in the morning i saw i saw a small white and for me for a moment a figure so in a minute or the machine had vanished as i am going to the time traveller had left feeling at\n",
      "Epoch 56 | Perplexity 1.6. Loss: 0.493\n",
      "i do not mean to ask you to accept anything without reasonable ground for it you will soon admit as i am absolutely wrong all as it was at that i took hold of the handle of the door i heard an exclamation oddly truncated at the end and a click and a thud a gust of air whirled round\n",
      "Epoch 57 | Perplexity 1.6. Loss: 0.470\n",
      "i do not mean to ask you to accept anything without reasonable me for me and i am beginning now to fear that i must wait a lifetime the time traveller vanished three years ago and as everybody knows now he has never returned epilogue one cannot choose but wonder will he spoke to think but you cannot your accepted\n",
      "Epoch 58 | Perplexity 1.6. Loss: 0.446\n",
      "i do not mean to ask you to accept anything without reasonable without is how he must have been too late i have on up a man but i certainly say these such splendid than our own time and yet no doubt of the old moon red and i began to be a large estuary or just the lamp the\n",
      "Epoch 59 | Perplexity 1.5. Loss: 0.438\n",
      "i do not mean to ask you to accept anything without reasonable time he s face i see the going to do i think i was a certain motionless and as the lever and he said i will find you will go next day it at last blackness i was creeping up and the same odd noises i had heard\n",
      "Epoch 60 | Perplexity 1.5. Loss: 0.425\n",
      "i do not mean to ask you to accept anything without reasonable without for me and i am beginning now to fear that i must wait a lifetime the time traveller vanished three years ago and as everybody knows now he has never returned epilogue one cannot choose but wonder will he spoke over the night again in my mind\n",
      "Epoch 61 | Perplexity 1.5. Loss: 0.408\n",
      "i do not mean to ask you to accept anything without reasonable and he said i saw through the hill a little number of the circling stars the door i heard an exclamation oddly truncated at the end and a click and a thud a gust of air whirled round me as i opened the door and from within came\n",
      "Epoch 62 | Perplexity 1.5. Loss: 0.390\n",
      "i do not mean to ask you to accept anything without reasonable and i could they were all the half slope but a number of the machine was in that time a strange white flowers past the sphinx then as the day was a very beautiful broken graceful great and the other hands upon him until i must have been\n",
      "Epoch 63 | Perplexity 1.5. Loss: 0.377\n",
      "i do not mean to ask you to accept anything without reasonable ground he said i was as much as he opened his door the psychologist then he said i psychologist at the risk of disappointing richardson i stayed on waiting for the time traveller waiting for the second perhaps still stranger story and the specimens and photographs he would\n",
      "Epoch 64 | Perplexity 1.4. Loss: 0.364\n",
      "i do not mean to ask you to accept anything without reasonable without along the time machine looking round the very high upon the air i saw was the pale light of a and it returned i judged the white sphinx almost at the mechanism then as my mouth arm and a strange thing the other he laughed when he\n",
      "Epoch 65 | Perplexity 1.4. Loss: 0.357\n",
      "i do not mean to ask you to accept anything without reasonable without might be hidden in the dark a big open man had he was living and as the door into the garden opened the door was the by a little machine i had to look at the age of it is it all the time traveller s shoulder\n",
      "Epoch 66 | Perplexity 1.4. Loss: 0.344\n",
      "i do not mean to ask you to accept anything without reasonable and he said i saw the little red hands i saw her said to be as he said i made said the small blue of the over and i felt his eyes he looked round at each other then ideas as i had the lawn in the garden\n",
      "Epoch 67 | Perplexity 1.4. Loss: 0.338\n",
      "i do not mean to ask you to accept anything without reasonable and for it i will soon admit as to day it it was as i was the old sun he walked over the fruit i saw again rather to story and a little breathing he lit the same grey eyes and how it it seemed to be a\n",
      "Epoch 68 | Perplexity 1.4. Loss: 0.325\n",
      "i do not mean to ask you to accept anything without reasonable ground for it you will soon admit as much as it seemed to me that i was an inscription with the big night i saw the door and saw the rocks about in my way i made up the hill a little hands had been no danger of\n",
      "Epoch 69 | Perplexity 1.4. Loss: 0.310\n",
      "i do not mean to ask you to accept anything without reasonable ground for it you will soon admit as much as i need from you you know of course that a mathematical line of a sudden or came into a pit my arm and a cold he saw a white flakes in the air was very much to the\n",
      "Epoch 70 | Perplexity 1.4. Loss: 0.303\n",
      "i do not mean to ask you to accept anything without reasonable ground for it you will soon admit as much as it i did not the white traveller with that the eyes which i was once more serious than my way i was a small thing in the same i thought of the time traveller were not believe it\n",
      "Epoch 71 | Perplexity 1.3. Loss: 0.294\n",
      "i do not mean to ask you to accept anything without reasonable ground with it you make us about this room then suddenly again she was others as i say i went on down the neck by the time traveller waiting for the left was still stranger story and the specimens in photographs he would not for him at the\n",
      "Epoch 72 | Perplexity 1.3. Loss: 0.290\n",
      "i do not mean to ask you to accept anything without reasonable ground for it you will soon admit as much as i need from you you know of course that a mathematical line of which i have you know and the truth i only a certain strange or for the first time how was all the strange thing might\n",
      "Epoch 73 | Perplexity 1.3. Loss: 0.281\n",
      "i do not mean to ask you to accept anything without reasonable and i knew of the bronze doors under the abundant and now i still to see a moment he laughed into the future to come to a sharp bright horizon against the wan sky there were no breakers and no waves for not a breath of wind was\n",
      "Epoch 74 | Perplexity 1.3. Loss: 0.274\n",
      "i do not mean to ask you to accept anything without reasonable ground for it you will soon admit as much as my second i had not there and the white sphinx were for the time a little of the fire so that hill i was an exclamation oddly truncated at the end and a click and a thud a\n",
      "Epoch 75 | Perplexity 1.3. Loss: 0.276\n",
      "i do not mean to ask you to accept anything without reasonable ground for it is it all the time traveller s face i looked round me again into my eyes he hesitated i eye wandered about the room it s too too after a time machine or i saw explain the time traveller s face the laboratory exactly as\n",
      "Epoch 76 | Perplexity 1.3. Loss: 0.264\n",
      "i do not mean to ask you to accept anything without reasonable ground he s little mechanism then i saw the sun had a small white or more more than a machine was so and as i had a round it as i stood with the time machine i was in however a bit of the time machine and i\n",
      "Epoch 77 | Perplexity 1.3. Loss: 0.246\n",
      "i do not mean to ask you to accept anything without reasonable ground and it is the time traveller put out of the darkness i hesitated then i had an inscription with a thud a minute or the sun will go on cooling steadily in the future but at last i took my own hint at the more ornamental succession\n",
      "Epoch 78 | Perplexity 1.3. Loss: 0.246\n",
      "i do not mean to ask you to accept anything without reasonable ground for it you will soon admit as much as i need from you you know of course that a mathematical line a line of thickness nil has no real existence they taught you that neither has a mathematical plane these things are mere abstractions that is now\n",
      "Epoch 79 | Perplexity 1.3. Loss: 0.234\n",
      "i do not mean to ask you to accept anything without reasonable ground with it down the length to look at the thing was a little way i had always been a little open space but a moment my appliances just to the same form through that long grass all on the time traveller s face i saw it was\n",
      "Epoch 80 | Perplexity 1.3. Loss: 0.235\n",
      "i do not mean to ask you to accept anything without reasonable ground for it you will soon admit as much as possible for a time i was to be more than the little people in which i went down into the age of physical and i began to be a journey on about he went out the door on\n",
      "Epoch 81 | Perplexity 1.3. Loss: 0.228\n",
      "i do not mean to ask you to accept anything without reasonable ground for it you may think of want to go forward into one of the nearer ages in which men are still men but with the riddles of our own time the moon must be that in the end above ground you must have been strong enough to\n",
      "Epoch 82 | Perplexity 1.3. Loss: 0.224\n",
      "i do not mean to ask you to accept anything without reasonable ground for it you may think have no necessity made it s some of course of a long continued underground habit in the smoking room he was coming who was a small look at the same crest returned i followed it was a very young man just think\n",
      "Epoch 83 | Perplexity 1.2. Loss: 0.221\n",
      "i do not mean to ask you to accept anything without reasonable ground for a most part of his laboratory at first and then again the old familiar room my tools hail grew seemed to be a beautiful and strange flowers and the white sphinx upon the feeling of coming upon things the lamp and was a sound of a\n",
      "Epoch 84 | Perplexity 1.2. Loss: 0.214\n",
      "i do not mean to ask you to accept anything without reasonable ground for it you will soon admit as much as i need from you you know of course that a mathematical line a line of thickness nil has no real existence they taught you that neither has a mathematical plane these things are mere abstractions that is all\n",
      "Epoch 85 | Perplexity 1.2. Loss: 0.205\n",
      "i do not mean to ask you to accept anything without reasonable ground for it you will get them then i was to appreciate how far as fell upon the sea the same traveller and i am account for a little of my little machine i seemed to see a ghostly indistinct figure so feet that on the most part\n",
      "Epoch 86 | Perplexity 1.2. Loss: 0.210\n",
      "i do not mean to ask you to accept anything without reasonable ground for a most part of his finger towards the forest i think this is of the earth had the big hall i had left was situated on the same i twilight the door had the white sphinx upon the pedestal of the white sphinx into the bronze\n",
      "Epoch 87 | Perplexity 1.2. Loss: 0.203\n",
      "i do not mean to ask you to accept anything without reasonable ground for a most part of his levers and began to take it the passage of it s sound like any but at that i was not a mere block of the lamp was in a hazy place of a minute at first but i cannot my time\n",
      "Epoch 88 | Perplexity 1.2. Loss: 0.195\n",
      "i do not mean to ask you to accept anything without reasonable ground for it you will soon admit as to night or one of them but at that i understood the smell of burning wood the floor and saw was the moon or other he laughed bring with large bright eyes which i will explain that the very beautiful\n",
      "Epoch 89 | Perplexity 1.2. Loss: 0.191\n",
      "i do not mean to ask you to accept anything without reasonable ground for it you will soon admit as much as i need from you you know of course that a mathematical line a line of thickness nil has no real existence they taught you that neither has a mathematical plane these things are mere abstractions that is all\n",
      "Epoch 90 | Perplexity 1.2. Loss: 0.182\n",
      "i do not mean to ask you to accept anything without reasonable ground for it you will soon admit as much as i need from you you know of course that a mathematical line a line of thickness nil has no real existence they taught you that neither has a mathematical plane these things are mere abstractions that is all\n",
      "Epoch 91 | Perplexity 1.2. Loss: 0.181\n",
      "i do not mean to ask you to accept anything without reasonable ground you must follow me carefully i shall have to controvert one or two ideas that are almost universally accepted the geometry for instance they taught you that the story was so long as it travelled i stood with my heart to be that i had an forgotten\n",
      "Epoch 92 | Perplexity 1.2. Loss: 0.181\n",
      "i do not mean to ask you to accept anything without reasonable ground for it you will soon admit as much as possible for a moment i realized that there were no small houses to be seen a clear idea of the palace of the time traveller it may be bigger and their eyes were singularly minute then looking round\n",
      "Epoch 93 | Perplexity 1.2. Loss: 0.176\n",
      "i do not mean to ask you to accept anything without reasonable end at the medical man are i knew and these strange creatures in the morning sky the air there was the faint seemed to me and here i was in a strange and in addition i pushed my explorations here and there either i missed some subtle point\n",
      "Epoch 94 | Perplexity 1.2. Loss: 0.172\n",
      "i do not mean to ask you to accept anything without reasonable change what s one make me a strange white by some of the white presently of them and the pale yellow of the sky were intensely bright and seemed to me to twinkle very little suddenly i had three and why i had others my time machine i\n",
      "Epoch 95 | Perplexity 1.2. Loss: 0.172\n",
      "i do not mean to ask you to accept anything without reasonable ground for it you will soon admit as much as i need from you you know of course that a mathematical line a line of thickness nil has no real existence they taught you that neither has a mathematical plane these things are mere abstractions that is all\n",
      "Epoch 96 | Perplexity 1.2. Loss: 0.163\n",
      "i do not mean to ask you to accept anything without reasonable ground for a moment i suspected that there was the matches very clear world to a long wind i must have been insensible upon the machine and only waiting for the darkness of the time machine was no doubt i seemed to see a ghostly indistinct figure sitting\n",
      "Epoch 97 | Perplexity 1.2. Loss: 0.163\n",
      "i do not mean to ask you to accept anything without reasonable change what it seemed to me to a time then i had a black against the red sky and heard a strange or still such a hundred or as a long time with that machine suddenly weena s little good a little way said he know how the\n",
      "Epoch 98 | Perplexity 1.2. Loss: 0.153\n",
      "i do not mean to ask you to accept anything without reasonable change what may once have been time in the other i went up to him he resorted to the table and looked round me again came the down and cheek there was not the faintest suggestion of it a splendid luminous color like that of early twilight the\n",
      "Epoch 99 | Perplexity 1.2. Loss: 0.162\n",
      "i do not mean to ask you to accept anything without reasonable change what s time how warm i was reminded by an advertisement that i had promised to meet richardson the publisher at two i looked at my watch and all the story i saw it was to her head he said to a reminiscence of the door from\n"
     ]
    }
   ],
   "source": [
    "def train_on_sequence(seq, model, optimizer, unroll=5):\n",
    "    \"\"\"Train the model within a batch of long text sequences.\"\"\"\n",
    "    batch_size, num_tokens = seq.shape\n",
    "\n",
    "    total_loss, state = 0., None\n",
    "    for i in range(0, num_tokens-unroll-1, unroll):\n",
    "        if state is not None:\n",
    "            state.detach_()\n",
    "\n",
    "        # Define the input sequence along which we will unroll the RNN\n",
    "        x = seq[:, i:i+unroll].T\n",
    "        y = seq[:, i+1:i+unroll+1].T\n",
    "\n",
    "        # Forward the model and compute the loss\n",
    "        x = F.one_hot(x, len(vocab)).float()\n",
    "        y_hat, state = model(x, state)\n",
    "        l = loss(y_hat.flatten(0, 1), y.flatten(0, 1).long())\n",
    "        total_loss += l.item()\n",
    "\n",
    "        # Backward step (clip gradients to prevent exploding gradients)\n",
    "        optimizer.zero_grad()\n",
    "        l.backward()\n",
    "        optimizer.step()\n",
    "\n",
    "    n_batches = (num_tokens-unroll-1) // unroll\n",
    "    return total_loss/n_batches\n",
    "\n",
    "def fit(model, loader, vocab, lr, num_epochs=100, unroll=5):\n",
    "    optimizer = torch.optim.RMSprop(model.parameters(), lr)\n",
    "    test_prompt = 'i do not mean to ask you to accept anything'\n",
    "    for epoch in range(num_epochs):\n",
    "        total_loss = 0\n",
    "        for sequence in loader:\n",
    "            total_loss += train_on_sequence(sequence.to(device), model, optimizer, unroll=unroll)\n",
    "        total_loss /= len(loader)\n",
    "\n",
    "        print(f'Epoch {epoch} | Perplexity {np.exp(total_loss):.1f}. Loss: {total_loss:.3f}')\n",
    "        print(generate(test_prompt, 50, model, vocab))\n",
    "\n",
    "num_epochs, lr = 100, 0.001\n",
    "dataset = TextCorpusDataset(corpus, vocab, 100)\n",
    "loader = DataLoader(dataset, batch_size=32)\n",
    "model = SimpleRNN(len(vocab), hidden_dim).to(device)\n",
    "loss = nn.CrossEntropyLoss()\n",
    "fit(model, loader, vocab, lr, num_epochs, unroll=5)"
   ]
  }
 ],
 "metadata": {
  "kernelspec": {
   "display_name": "Python 3 (ipykernel)",
   "language": "python",
   "name": "python3"
  },
  "language_info": {
   "codemirror_mode": {
    "name": "ipython",
    "version": 3
   },
   "file_extension": ".py",
   "mimetype": "text/x-python",
   "name": "python",
   "nbconvert_exporter": "python",
   "pygments_lexer": "ipython3",
   "version": "3.10.12"
  },
  "colab": {
   "provenance": []
  }
 },
 "nbformat": 4,
 "nbformat_minor": 0
}